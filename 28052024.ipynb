{
  "nbformat": 4,
  "nbformat_minor": 0,
  "metadata": {
    "colab": {
      "provenance": [],
      "authorship_tag": "ABX9TyNUDo+JCMPKdkkXtQ4xwCf7",
      "include_colab_link": true
    },
    "kernelspec": {
      "name": "python3",
      "display_name": "Python 3"
    },
    "language_info": {
      "name": "python"
    }
  },
  "cells": [
    {
      "cell_type": "markdown",
      "metadata": {
        "id": "view-in-github",
        "colab_type": "text"
      },
      "source": [
        "<a href=\"https://colab.research.google.com/github/IUBAYAR/MIS-351/blob/main/28052024.ipynb\" target=\"_parent\"><img src=\"https://colab.research.google.com/assets/colab-badge.svg\" alt=\"Open In Colab\"/></a>"
      ]
    },
    {
      "cell_type": "code",
      "execution_count": null,
      "metadata": {
        "id": "5o4xZbG-1yvy"
      },
      "outputs": [],
      "source": [
        "\n",
        "\n",
        "\n",
        "import numpy as np\n",
        "import pandas as pd\n",
        "\n",
        "import seaborn as sns\n",
        "import matplotlib.pyplot as plt"
      ]
    },
    {
      "cell_type": "markdown",
      "source": [
        "Ülker sells 100 gram Albeni chocolate bars for 30 cents. Actually they pack an ingredient that has a mean 100 grams and a standard deviation .55 grams.\n",
        "*   Normally the profit margin is 30%,\n",
        "*   If a lighter bar is sold for the same price, some extra profit would be earned,\n",
        "*   similarly if a heavier bar is sold for the same price some profit decrease is experienced.\n",
        "*   Moreover, if any bar less than 98 grams is detected during an inspection, Ülker pays a fine of $2000.\n",
        "*   But, an inspection only examines %0.5 of a production party.\n",
        "\n",
        "Try different target product weights (integral) from 95 grams to 103 grams, which target mean weight is more profitable? You are to sell 400ooo bars.\n",
        "\n"
      ],
      "metadata": {
        "id": "SOvOd_zk16I3"
      }
    },
    {
      "cell_type": "code",
      "source": [
        "target = 100\n",
        "products = np.random.normal(loc = target, scale = .55, size = 400000)\n",
        "sns.histplot(products, kde = True)"
      ],
      "metadata": {
        "colab": {
          "base_uri": "https://localhost:8080/",
          "height": 241
        },
        "id": "VgfdpAtA14SU",
        "outputId": "d3c0112a-08c9-4b59-aba7-4a7a5bb587f9"
      },
      "execution_count": null,
      "outputs": [
        {
          "output_type": "execute_result",
          "data": {
            "text/plain": [
              "<Axes: ylabel='Count'>"
            ]
          },
          "metadata": {},
          "execution_count": 28
        },
        {
          "output_type": "display_data",
          "data": {
            "text/plain": [
              "<Figure size 640x480 with 1 Axes>"
            ],
            "image/png": "[encoded data removed]"
          },
          "metadata": {}
        }
      ]
    },
    {
      "cell_type": "code",
      "source": [
        "400000*(.3)*(.3)"
      ],
      "metadata": {
        "colab": {
          "base_uri": "https://localhost:8080/"
        },
        "id": "TaRVS-QG6YOK",
        "outputId": "113d2c3e-72f2-4c4c-e4fe-436b1fa073ba"
      },
      "execution_count": null,
      "outputs": [
        {
          "output_type": "execute_result",
          "data": {
            "text/plain": [
              "36000.0"
            ]
          },
          "metadata": {},
          "execution_count": 29
        }
      ]
    },
    {
      "cell_type": "code",
      "source": [
        "profits = {}\n",
        "\n",
        "for t in [95,96,97,98,99,100,101,102,103]:\n",
        "  target = t\n",
        "  liste = []\n",
        "\n",
        "  products = np.random.normal(loc = target, scale = .55, size = 400000)\n",
        "\n",
        "  for i in range(10**3):\n",
        "    revenue = 400000 * .3\n",
        "    cost = np.array([(.7)*(.3)*(products[i] / 100) for i in range(len(products))]).sum()\n",
        "\n",
        "    inspection_sample = pd.Series(products).sample( frac = .005 )\n",
        "    fine = 2000*bool(len(inspection_sample[ inspection_sample < 98 ]))\n",
        "\n",
        "    liste.append(revenue - cost - fine)\n",
        "\n",
        "  profits[t] = np.array(liste).mean()\n",
        "\n",
        "profits"
      ],
      "metadata": {
        "colab": {
          "base_uri": "https://localhost:8080/"
        },
        "id": "95QddOGe4s_F",
        "outputId": "49692c15-531e-42d0-ef94-35c30dda63a0"
      },
      "execution_count": null,
      "outputs": [
        {
          "output_type": "execute_result",
          "data": {
            "text/plain": [
              "{95: 38200.22202939069,\n",
              " 96: 37360.35206299771,\n",
              " 97: 36519.646363040534,\n",
              " 98: 35679.33697786164,\n",
              " 99: 34840.132174635786,\n",
              " 100: 35648.244299235805,\n",
              " 101: 35158.69742948882,\n",
              " 102: 34320.74512951333,\n",
              " 103: 33479.56450966744}"
            ]
          },
          "metadata": {},
          "execution_count": 35
        }
      ]
    },
    {
      "cell_type": "code",
      "source": [],
      "metadata": {
        "id": "I-rpA2S_6VJu"
      },
      "execution_count": null,
      "outputs": []
    }
  ]
}