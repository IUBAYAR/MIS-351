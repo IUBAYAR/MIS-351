{
  "nbformat": 4,
  "nbformat_minor": 0,
  "metadata": {
    "colab": {
      "provenance": [],
      "authorship_tag": "ABX9TyMWUA+Zpp902GZgxzmGhvQX",
      "include_colab_link": true
    },
    "kernelspec": {
      "name": "python3",
      "display_name": "Python 3"
    },
    "language_info": {
      "name": "python"
    }
  },
  "cells": [
    {
      "cell_type": "markdown",
      "metadata": {
        "id": "view-in-github",
        "colab_type": "text"
      },
      "source": [
        "<a href=\"https://colab.research.google.com/github/IUBAYAR/MIS-351/blob/main/07052024.ipynb\" target=\"_parent\"><img src=\"https://colab.research.google.com/assets/colab-badge.svg\" alt=\"Open In Colab\"/></a>"
      ]
    },
    {
      "cell_type": "code",
      "execution_count": 3,
      "metadata": {
        "id": "VR4bcN2qPujr"
      },
      "outputs": [],
      "source": [
        "#  Importing necessary python modules\n",
        "import numpy as np\n",
        "import pandas as pd\n",
        "import matplotlib.pyplot as plt\n",
        "import seaborn as sns"
      ]
    },
    {
      "cell_type": "markdown",
      "source": [
        "##  Job interviewer's dilemma\n",
        "\n",
        "For a job vacancy there are 30 applicants but the company has limited human resources personnel and may only interview 10 applicants."
      ],
      "metadata": {
        "id": "Q_VOgoPqQGrF"
      }
    },
    {
      "cell_type": "markdown",
      "source": [
        "Only after an interview the company can identify the fitness of a certain applicant.\\\n",
        "\\\n",
        "The company also knows how the labor market stats:\\\n",
        "The job applicants population is normally distributed with a mean of 50 and a standard deviation 20."
      ],
      "metadata": {
        "id": "ccsg3VGKRCmQ"
      }
    },
    {
      "cell_type": "code",
      "source": [
        "population_data = [int(i) for i in np.random.normal(loc = 50, scale = 20, size = 10**5) if i >= 0 and i <= 100]\n",
        "\n",
        "sns.histplot( population_data )\n",
        "\n",
        "plt.xlabel('Fitness_score')\n",
        "plt.ylabel('Frequency')"
      ],
      "metadata": {
        "colab": {
          "base_uri": "https://localhost:8080/",
          "height": 467
        },
        "id": "AJQFlIaAQ9B9",
        "outputId": "0b1c1a1b-b826-4d5c-b55a-9ad3194b7873"
      },
      "execution_count": 4,
      "outputs": [
        {
          "output_type": "execute_result",
          "data": {
            "text/plain": [
              "Text(0, 0.5, 'Frequency')"
            ]
          },
          "metadata": {},
          "execution_count": 4
        },
        {
          "output_type": "display_data",
          "data": {
            "text/plain": [
              "<Figure size 640x480 with 1 Axes>"
            ],
            "image/png": "[encoded data removed]"
          },
          "metadata": {}
        }
      ]
    },
    {
      "cell_type": "markdown",
      "source": [
        "Now, you see.\\\n",
        "\\\n",
        "There will be a possibility that the interviewer may identify an applicant who is a better fit for the position on the remaining trials.\\\n",
        "\\\n",
        "And, ofcourse, rejecting a current applicant may be a huge regret too...\\\n",
        "\\\n",
        "So, given a specific 30 applicants being interviewed on a random sequence, what would be good scores to settle for each trial?"
      ],
      "metadata": {
        "id": "czPMgrxoTHRh"
      }
    },
    {
      "cell_type": "code",
      "source": [
        "#  converting population data to a pandas.Series to draw a random sample with a random_state = 351\n",
        "applicants = pd.Series( population_data ).sample( frac = 30/len( population_data ), random_state = 351 )\n",
        "#  converting back to a list\n",
        "applicants = applicants.to_list()\n",
        "\n",
        "applicants"
      ],
      "metadata": {
        "colab": {
          "base_uri": "https://localhost:8080/"
        },
        "id": "nPSx8d9eSDJQ",
        "outputId": "50c4557f-ed52-4d79-9aa2-f4b7020c8e39"
      },
      "execution_count": 5,
      "outputs": [
        {
          "output_type": "execute_result",
          "data": {
            "text/plain": [
              "[43,\n",
              " 46,\n",
              " 46,\n",
              " 62,\n",
              " 37,\n",
              " 51,\n",
              " 60,\n",
              " 64,\n",
              " 46,\n",
              " 70,\n",
              " 45,\n",
              " 61,\n",
              " 34,\n",
              " 34,\n",
              " 48,\n",
              " 68,\n",
              " 38,\n",
              " 25,\n",
              " 79,\n",
              " 72,\n",
              " 58,\n",
              " 27,\n",
              " 38,\n",
              " 56,\n",
              " 29,\n",
              " 62,\n",
              " 64,\n",
              " 54,\n",
              " 19,\n",
              " 46]"
            ]
          },
          "metadata": {},
          "execution_count": 5
        }
      ]
    },
    {
      "cell_type": "code",
      "source": [
        "#  trial 1: picking up a random applicant\n",
        "current_applicant = np.random.choice( applicants, replace = False )\n",
        "#    removing the current applicant from the uninterviewed crowd\n",
        "applicants.remove( current_applicant )\n",
        "current_applicant"
      ],
      "metadata": {
        "colab": {
          "base_uri": "https://localhost:8080/"
        },
        "id": "JAO18m3QUvrt",
        "outputId": "3421be84-3e3a-4038-cf84-99cf7d6a4749"
      },
      "execution_count": 6,
      "outputs": [
        {
          "output_type": "execute_result",
          "data": {
            "text/plain": [
              "61"
            ]
          },
          "metadata": {},
          "execution_count": 6
        }
      ]
    },
    {
      "cell_type": "code",
      "source": [
        "#  The propability of getting a better applicant on the remaining trials based on the population information\n",
        "1 - (\n",
        "len(\n",
        "pd.Series( population_data )[ pd.Series( population_data ) <= current_applicant ]\n",
        ") / len( population_data )\n",
        ")**9"
      ],
      "metadata": {
        "colab": {
          "base_uri": "https://localhost:8080/"
        },
        "id": "j044kh0BVjyj",
        "outputId": "ac376477-c79b-4df8-e432-c88ad266f375"
      },
      "execution_count": 7,
      "outputs": [
        {
          "output_type": "execute_result",
          "data": {
            "text/plain": [
              "0.9433528966195122"
            ]
          },
          "metadata": {},
          "execution_count": 7
        }
      ]
    },
    {
      "cell_type": "code",
      "source": [
        "#  trial 2: picking up a random applicant\n",
        "current_applicant = np.random.choice( applicants, replace = False )\n",
        "#    removing the current applicant from the uninterviewed crowd\n",
        "applicants.remove( current_applicant )\n",
        "current_applicant"
      ],
      "metadata": {
        "colab": {
          "base_uri": "https://localhost:8080/"
        },
        "id": "UNSn4DpqV9_x",
        "outputId": "b65b9601-f3f4-404b-e5f0-91905b3d680c"
      },
      "execution_count": 8,
      "outputs": [
        {
          "output_type": "execute_result",
          "data": {
            "text/plain": [
              "46"
            ]
          },
          "metadata": {},
          "execution_count": 8
        }
      ]
    },
    {
      "cell_type": "code",
      "source": [
        "#  The probability of getting a better applicant on the remaining trials based on the population information\n",
        "1 - (\n",
        "len(\n",
        "pd.Series( population_data )[ pd.Series( population_data ) <= current_applicant ]\n",
        ") / len( population_data )\n",
        ")**8"
      ],
      "metadata": {
        "colab": {
          "base_uri": "https://localhost:8080/"
        },
        "id": "Dy-JuPHzXW_a",
        "outputId": "d151c47d-1bc9-4b16-e7b6-34565e694911"
      },
      "execution_count": 9,
      "outputs": [
        {
          "output_type": "execute_result",
          "data": {
            "text/plain": [
              "0.9986673305342392"
            ]
          },
          "metadata": {},
          "execution_count": 9
        }
      ]
    },
    {
      "cell_type": "code",
      "source": [
        "#  trial 3: picking up a random applicant\n",
        "current_applicant = np.random.choice( applicants, replace = False )\n",
        "#    removing the current applicant from the uninterviewed crowd\n",
        "applicants.remove( current_applicant )\n",
        "current_applicant"
      ],
      "metadata": {
        "colab": {
          "base_uri": "https://localhost:8080/"
        },
        "id": "H5oQg0CrXZRB",
        "outputId": "b2f56ab7-ce6a-4ee0-f4fc-5deb9cd3cf93"
      },
      "execution_count": 10,
      "outputs": [
        {
          "output_type": "execute_result",
          "data": {
            "text/plain": [
              "64"
            ]
          },
          "metadata": {},
          "execution_count": 10
        }
      ]
    },
    {
      "cell_type": "code",
      "source": [
        "#  The propability of getting a better applicant on the remaining trials based on the population information\n",
        "1 - (\n",
        "len(\n",
        "pd.Series( population_data )[ pd.Series( population_data ) <= current_applicant ]\n",
        ") / len( population_data )\n",
        ")**7"
      ],
      "metadata": {
        "colab": {
          "base_uri": "https://localhost:8080/"
        },
        "id": "nkxHddDKXiuQ",
        "outputId": "1ac9a459-babf-4153-ef5f-984ce597eead"
      },
      "execution_count": 11,
      "outputs": [
        {
          "output_type": "execute_result",
          "data": {
            "text/plain": [
              "0.8304173571929094"
            ]
          },
          "metadata": {},
          "execution_count": 11
        }
      ]
    },
    {
      "cell_type": "code",
      "source": [
        "#  A generalization of trials and outcomes\n",
        "instance = {}\n",
        "\n",
        "applicants = pd.Series( population_data ).sample( frac = 30/len( population_data ), random_state = 351 ).to_list()\n",
        "\n",
        "for t in np.arange(1,10 + 1):\n",
        "  current_applicant = np.random.choice( applicants, replace = False )\n",
        "  applicants.remove( current_applicant )\n",
        "\n",
        "  instance[t] = current_applicant, 1 - (\n",
        "  len(\n",
        "  pd.Series( population_data )[ pd.Series( population_data ) <= current_applicant ]\n",
        "  ) / len( population_data )\n",
        "  )**(10-t)\n",
        "instance"
      ],
      "metadata": {
        "colab": {
          "base_uri": "https://localhost:8080/"
        },
        "id": "Ix0Kw8gWXkY-",
        "outputId": "fac08c34-83bd-42e9-c1db-6b79632f91ab"
      },
      "execution_count": 47,
      "outputs": [
        {
          "output_type": "execute_result",
          "data": {
            "text/plain": [
              "{1: (63, 0.9147848039924855),\n",
              " 2: (55, 0.9786384648650963),\n",
              " 3: (23, 0.9999999482533642),\n",
              " 4: (45, 0.9947114543974618),\n",
              " 5: (36, 0.9989439743058247),\n",
              " 6: (17, 0.9999943215049052),\n",
              " 7: (70, 0.37058441467239334),\n",
              " 8: (59, 0.519134956975223),\n",
              " 9: (81, 0.05018280517323448),\n",
              " 10: (66, 0.0)}"
            ]
          },
          "metadata": {},
          "execution_count": 47
        }
      ]
    },
    {
      "cell_type": "markdown",
      "source": [
        "What is the probability of regretting to reject an applicant scoring over 70?"
      ],
      "metadata": {
        "id": "mOz4teWmZ5xL"
      }
    },
    {
      "cell_type": "code",
      "source": [
        "#  A generalization of trials and outcomes\n",
        "liste = []\n",
        "\n",
        "for i in np.arange(10**4):\n",
        "\n",
        "  instance = []\n",
        "\n",
        "  regret = 0\n",
        "\n",
        "  applicants = pd.Series( population_data ).sample( frac = 30/len( population_data ), random_state = 351 ).to_list()\n",
        "\n",
        "  k = None\n",
        "  for t in np.arange(10):\n",
        "\n",
        "    current_applicant = np.random.choice( applicants, replace = False )\n",
        "    applicants.remove( current_applicant )\n",
        "\n",
        "    instance.append( current_applicant )\n",
        "\n",
        "    if (instance[-1] >= 70) and (k == None):\n",
        "      k = t\n",
        "\n",
        "    if k != None:\n",
        "      regret += len( pd.Series( instance[k:] )[ pd.Series(instance[k:]) > instance[k] ] )\n",
        "\n",
        "  regret = bool(1 - bool(regret))\n",
        "\n",
        "  if k != None:\n",
        "    liste.append(regret)\n",
        "\n",
        "np.array(liste).mean()"
      ],
      "metadata": {
        "colab": {
          "base_uri": "https://localhost:8080/"
        },
        "id": "K9cZj3tNYlkX",
        "outputId": "90411d89-53fe-46ce-fd93-5ca787ebc621"
      },
      "execution_count": 110,
      "outputs": [
        {
          "output_type": "execute_result",
          "data": {
            "text/plain": [
              "0.518472265584348"
            ]
          },
          "metadata": {},
          "execution_count": 110
        }
      ]
    },
    {
      "cell_type": "markdown",
      "source": [
        "What is the probability of rejecting to hire the first applicant scoring over 75?"
      ],
      "metadata": {
        "id": "PGFszHNtjQRx"
      }
    },
    {
      "cell_type": "code",
      "source": [
        "#  A generalization of trials and outcomes\n",
        "liste = []\n",
        "\n",
        "for i in np.arange(10**4):\n",
        "\n",
        "  instance = []\n",
        "\n",
        "  regret = 0\n",
        "\n",
        "  applicants = pd.Series( population_data ).sample( frac = 30/len( population_data ), random_state = 351 ).to_list()\n",
        "\n",
        "  k = None\n",
        "  for t in np.arange(10):\n",
        "\n",
        "    current_applicant = np.random.choice( applicants, replace = False )\n",
        "    applicants.remove( current_applicant )\n",
        "\n",
        "    instance.append( current_applicant )\n",
        "\n",
        "    if (instance[-1] >= 75) and (k == None):\n",
        "      k = t\n",
        "\n",
        "    if k != None:\n",
        "      regret += len( pd.Series( instance[k:] )[ pd.Series(instance[k:]) > instance[k] ] )\n",
        "\n",
        "  regret = bool(regret)\n",
        "\n",
        "  if k != None:\n",
        "    liste.append(regret)\n",
        "\n",
        "np.array(liste).mean()"
      ],
      "metadata": {
        "colab": {
          "base_uri": "https://localhost:8080/"
        },
        "id": "RNyniWZijX1N",
        "outputId": "04c1932e-e57b-4698-ee6d-84c5dab080a5"
      },
      "execution_count": 109,
      "outputs": [
        {
          "output_type": "execute_result",
          "data": {
            "text/plain": [
              "0.2676669893514037"
            ]
          },
          "metadata": {},
          "execution_count": 109
        }
      ]
    },
    {
      "cell_type": "code",
      "source": [],
      "metadata": {
        "id": "LmH-w9WQi6y0"
      },
      "execution_count": null,
      "outputs": []
    }
  ]
}