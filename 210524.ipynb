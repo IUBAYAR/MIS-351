{
  "nbformat": 4,
  "nbformat_minor": 0,
  "metadata": {
    "colab": {
      "provenance": [],
      "authorship_tag": "ABX9TyPfu960SAEdQDRpHSv69HMz",
      "include_colab_link": true
    },
    "kernelspec": {
      "name": "python3",
      "display_name": "Python 3"
    },
    "language_info": {
      "name": "python"
    }
  },
  "cells": [
    {
      "cell_type": "markdown",
      "metadata": {
        "id": "view-in-github",
        "colab_type": "text"
      },
      "source": [
        "<a href=\"https://colab.research.google.com/github/IUBAYAR/MIS-351/blob/main/210524.ipynb\" target=\"_parent\"><img src=\"https://colab.research.google.com/assets/colab-badge.svg\" alt=\"Open In Colab\"/></a>"
      ]
    },
    {
      "cell_type": "code",
      "execution_count": 1,
      "metadata": {
        "id": "yBlv-6QPIRTr"
      },
      "outputs": [],
      "source": [
        "#Importing necessary python modules\n",
        "import numpy as np\n",
        "import pandas as pd\n",
        "import matplotlib.pyplot as plt\n",
        "import seaborn as sns"
      ]
    },
    {
      "cell_type": "markdown",
      "source": [
        "For a flight with 300 seating capacity, an airway company sells tickets to 3 customer groups:\n",
        "*   Group A: extremely careful passengers (1% chance of missing a flight)\n",
        "*   Group B:  careful passengers (3% chance of missing a flight)\n",
        "*   Group C: rookie passengers (10% chance of missing a flight)\n",
        "\n",
        "\n",
        "The company does not know how many tickets are sold to each group of passengers and wants the optimize an overbooking strategy.\\\n",
        "\\\n",
        "If any passenger is not seated on a flight the company pays them a \\$10ooo fine per passenger. Where the company makes $500 per ticket sold.\n",
        "\\\n",
        "What is the expected value of 1-5 overbooked tickets?\n"
      ],
      "metadata": {
        "id": "AAZjRYFbJOZs"
      }
    },
    {
      "cell_type": "code",
      "source": [
        "from numpy.random import poisson\n",
        "from numpy.random import randint\n",
        "\n",
        "C=300\n",
        "a = randint(0, C+1)\n",
        "b = randint(0, C-a+1)\n",
        "c = C-a-b\n",
        "\n",
        "a_miss = poisson(.01, size = a).sum()\n",
        "b_miss = poisson(.03, size = b).sum()\n",
        "c_miss = poisson(.10, size = c).sum()\n",
        "\n",
        "[a_miss, b_miss, c_miss]"
      ],
      "metadata": {
        "colab": {
          "base_uri": "https://localhost:8080/"
        },
        "id": "ViAAaoEVKljd",
        "outputId": "2457b734-7dac-4239-eeac-d0270d78f023"
      },
      "execution_count": 4,
      "outputs": [
        {
          "output_type": "execute_result",
          "data": {
            "text/plain": [
              "[1, 2, 4]"
            ]
          },
          "metadata": {},
          "execution_count": 4
        }
      ]
    },
    {
      "cell_type": "code",
      "source": [
        "#1 ticket overbooked\n",
        "liste = []\n",
        "for i in range (10**4):\n",
        "  ovr = 1\n",
        "\n",
        "  C=300\n",
        "  a = randint(0, C+1)\n",
        "  b = randint(0, C-a+1)\n",
        "  c = C-a-b\n",
        "\n",
        "  a_miss = poisson(.01, size = a).sum()\n",
        "  b_miss = poisson(.03, size = b).sum()\n",
        "  c_miss = poisson(.10, size = c).sum()\n",
        "\n",
        "  if np.array([a_miss, b_miss, c_miss]).sum() >=ovr:\n",
        "    liste.append(500)\n",
        "  else:\n",
        "    liste.append(-10000*(ovr - np.array([a_miss,b_miss,c_miss]).sum()))\n",
        "\n",
        "np.array(liste).mean()"
      ],
      "metadata": {
        "colab": {
          "base_uri": "https://localhost:8080/"
        },
        "id": "MeGuJKw6LmnW",
        "outputId": "43612709-3832-4415-90a0-d65b99ea7ab7"
      },
      "execution_count": 5,
      "outputs": [
        {
          "output_type": "execute_result",
          "data": {
            "text/plain": [
              "460.1"
            ]
          },
          "metadata": {},
          "execution_count": 5
        }
      ]
    },
    {
      "cell_type": "code",
      "source": [
        "#  2 ticket overbooked\n",
        "liste = []\n",
        "for i in range(10**4):\n",
        "  ovr = 2\n",
        "\n",
        "  C = 300 + ovr\n",
        "  a = randint(0,C+1)\n",
        "  b = randint(0,C-a+1)\n",
        "  c = C-a-b\n",
        "\n",
        "  a_miss = poisson(.01,size = a).sum()\n",
        "  b_miss = poisson(.03,size = b).sum()\n",
        "  c_miss = poisson(.10,size = c).sum()\n",
        "\n",
        "  if np.array([a_miss,b_miss,c_miss]).sum() >= ovr:\n",
        "    liste.append( 500 )\n",
        "  else:\n",
        "    liste.append( -10000*(ovr - np.array([a_miss,b_miss,c_miss]).sum()) )\n",
        "\n",
        "np.array(liste).mean()"
      ],
      "metadata": {
        "colab": {
          "base_uri": "https://localhost:8080/"
        },
        "id": "jNULIFFPMHas",
        "outputId": "fb170b94-d2b1-48eb-eaa6-ee4211bc84df"
      },
      "execution_count": 9,
      "outputs": [
        {
          "output_type": "execute_result",
          "data": {
            "text/plain": [
              "313.6"
            ]
          },
          "metadata": {},
          "execution_count": 9
        }
      ]
    },
    {
      "cell_type": "code",
      "source": [
        "#  3 ticket overbooked\n",
        "liste = []\n",
        "for i in range(10**4):\n",
        "  ovr = 3\n",
        "\n",
        "  C = 300 + ovr\n",
        "  a = randint(0,C+1)\n",
        "  b = randint(0,C-a+1)\n",
        "  c = C-a-b\n",
        "\n",
        "  a_miss = poisson(.01,size = a).sum()\n",
        "  b_miss = poisson(.03,size = b).sum()\n",
        "  c_miss = poisson(.10,size = c).sum()\n",
        "\n",
        "  if np.array([a_miss,b_miss,c_miss]).sum() >= ovr:\n",
        "    liste.append( 500 )\n",
        "  else:\n",
        "    liste.append( -10000*(ovr - np.array([a_miss,b_miss,c_miss]).sum()) )\n",
        "\n",
        "np.array(liste).mean()"
      ],
      "metadata": {
        "colab": {
          "base_uri": "https://localhost:8080/"
        },
        "id": "bLSHJeEQNY20",
        "outputId": "07824598-7c22-44fa-8a4c-66ab51f456c8"
      },
      "execution_count": 10,
      "outputs": [
        {
          "output_type": "execute_result",
          "data": {
            "text/plain": [
              "-170.1"
            ]
          },
          "metadata": {},
          "execution_count": 10
        }
      ]
    },
    {
      "cell_type": "code",
      "source": [
        "#  4 ticket overbooked\n",
        "liste = []\n",
        "for i in range(10**4):\n",
        "  ovr = 4\n",
        "\n",
        "  C = 300 + ovr\n",
        "  a = randint(0,C+1)\n",
        "  b = randint(0,C-a+1)\n",
        "  c = C-a-b\n",
        "\n",
        "  a_miss = poisson(.01,size = a).sum()\n",
        "  b_miss = poisson(.03,size = b).sum()\n",
        "  c_miss = poisson(.10,size = c).sum()\n",
        "\n",
        "  if np.array([a_miss,b_miss,c_miss]).sum() >= ovr:\n",
        "    liste.append( 500 )\n",
        "  else:\n",
        "    liste.append( -10000*(ovr - np.array([a_miss,b_miss,c_miss]).sum()) )\n",
        "\n",
        "np.array(liste).mean()"
      ],
      "metadata": {
        "colab": {
          "base_uri": "https://localhost:8080/"
        },
        "id": "UiabLKpCN3Hp",
        "outputId": "81f1a65c-f2f8-46cf-d29c-aeacbefc380c"
      },
      "execution_count": 11,
      "outputs": [
        {
          "output_type": "execute_result",
          "data": {
            "text/plain": [
              "-1099.35"
            ]
          },
          "metadata": {},
          "execution_count": 11
        }
      ]
    },
    {
      "cell_type": "code",
      "source": [
        "#  5 ticket overbooked\n",
        "liste = []\n",
        "for i in range(10**4):\n",
        "  ovr = 5\n",
        "\n",
        "  C = 300 + ovr\n",
        "  a = randint(0,C+1)\n",
        "  b = randint(0,C-a+1)\n",
        "  c = C-a-b\n",
        "\n",
        "  a_miss = poisson(.01,size = a).sum()\n",
        "  b_miss = poisson(.03,size = b).sum()\n",
        "  c_miss = poisson(.10,size = c).sum()\n",
        "\n",
        "  if np.array([a_miss,b_miss,c_miss]).sum() >= ovr:\n",
        "    liste.append( 500 )\n",
        "  else:\n",
        "    liste.append( -10000*(ovr - np.array([a_miss,b_miss,c_miss]).sum()) )\n",
        "\n",
        "np.array(liste).mean()"
      ],
      "metadata": {
        "colab": {
          "base_uri": "https://localhost:8080/"
        },
        "id": "2iFoglctOJP7",
        "outputId": "32845b57-e06d-4cf4-b3bd-5feaef0cce33"
      },
      "execution_count": 12,
      "outputs": [
        {
          "output_type": "execute_result",
          "data": {
            "text/plain": [
              "-2648.8"
            ]
          },
          "metadata": {},
          "execution_count": 12
        }
      ]
    },
    {
      "cell_type": "markdown",
      "source": [
        "If there were no fine, what would be the opportunity cost of not overbooking?"
      ],
      "metadata": {
        "id": "nOi6LSe0Ohgc"
      }
    },
    {
      "cell_type": "code",
      "source": [
        "liste = []\n",
        "for i in range(10**4):\n",
        "  ovr = 0\n",
        "\n",
        "  C = 300 + ovr\n",
        "  a = randint(0,C+1)\n",
        "  b = randint(0,C-a+1)\n",
        "  c = C-a-b\n",
        "\n",
        "  a_miss = poisson(.01,size = a).sum()\n",
        "  b_miss = poisson(.03,size = b).sum()\n",
        "  c_miss = poisson(.10,size = c).sum()\n",
        "\n",
        "  liste.append(\n",
        "              500*np.array([a_miss,b_miss,c_miss]).sum()\n",
        "              )\n",
        "\n",
        "np.array(liste).mean()"
      ],
      "metadata": {
        "colab": {
          "base_uri": "https://localhost:8080/"
        },
        "id": "K89kfOoyOiHY",
        "outputId": "cc9fd177-9026-4fb1-9de1-ee9a2d94c61f"
      },
      "execution_count": 13,
      "outputs": [
        {
          "output_type": "execute_result",
          "data": {
            "text/plain": [
              "5669.55"
            ]
          },
          "metadata": {},
          "execution_count": 13
        }
      ]
    },
    {
      "cell_type": "code",
      "source": [],
      "metadata": {
        "id": "F-WG8hXmO0gs"
      },
      "execution_count": null,
      "outputs": []
    }
  ]
}