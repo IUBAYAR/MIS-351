{
  "nbformat": 4,
  "nbformat_minor": 0,
  "metadata": {
    "colab": {
      "provenance": [],
      "authorship_tag": "ABX9TyP3qNt/OmCfWaW7zlIOuihO",
      "include_colab_link": true
    },
    "kernelspec": {
      "name": "python3",
      "display_name": "Python 3"
    },
    "language_info": {
      "name": "python"
    }
  },
  "cells": [
    {
      "cell_type": "markdown",
      "metadata": {
        "id": "view-in-github",
        "colab_type": "text"
      },
      "source": [
        "<a href=\"https://colab.research.google.com/github/IUBAYAR/MIS-351/blob/main/19032025.ipynb\" target=\"_parent\"><img src=\"https://colab.research.google.com/assets/colab-badge.svg\" alt=\"Open In Colab\"/></a>"
      ]
    },
    {
      "cell_type": "markdown",
      "source": [
        "Q1:The Theater Row\\\n",
        "\n",
        "8 eligible bachelors and 7 beautiful models happen randomly to have purchased single seats in the same 15-seat row of a theater. On the average, how many pairs of adjacent seats are ticketed for marriageable couples?"
      ],
      "metadata": {
        "id": "UtYlb6l7-Ez6"
      }
    },
    {
      "cell_type": "code",
      "source": [
        "import numpy as np\n",
        "import pandas as pd"
      ],
      "metadata": {
        "id": "B4c692sN-HAn"
      },
      "execution_count": null,
      "outputs": []
    },
    {
      "cell_type": "code",
      "source": [
        "liste = []\n",
        "for i in range(10**4):\n",
        "  #defining the sample space\n",
        "  sample_space =['M' for i in range(8)] + ['F' for i in range(7)]\n",
        "  #creating a random sequence of ladies and gentlemen\n",
        "  np.random.shuffle(sample_space)\n",
        "\n",
        "  #possible issues:\n",
        "  # * starts with the same gender twice\n",
        "  # * ends with the same gender twice\n",
        "  # * 3 same genders in a row\n",
        "\n",
        "  potentially = 7\n",
        "  if sample_space[0] == sample_space[1]:\n",
        "    potentially -=1\n",
        "    sample_space.pop(0)\n",
        "  if sample_space[-1] == sample_space[-2]:\n",
        "    potentially -=1\n",
        "    sample_space.pop(-1)\n",
        "  for i in range(1, len(sample_space)-1):\n",
        "    if (sample_space[i-1] == sample_space[i]) and (sample_space[i] == sample_space[i+1]):\n",
        "      potentially -=1\n",
        "  liste.append(potentially)\n",
        "np.array(liste).mean()\n",
        "\n"
      ],
      "metadata": {
        "colab": {
          "base_uri": "https://localhost:8080/"
        },
        "id": "t66IsmEV_Bif",
        "outputId": "bea37403-6ff5-423a-a3dd-b3037a645058"
      },
      "execution_count": null,
      "outputs": [
        {
          "output_type": "execute_result",
          "data": {
            "text/plain": [
              "3.8637"
            ]
          },
          "metadata": {},
          "execution_count": 2
        }
      ]
    },
    {
      "cell_type": "markdown",
      "source": [
        "Q2: ##  Job interviewer's dilemma\n",
        "\n",
        "For a job vacancy there are 30 applicants but the company has limited human resources personnel\n",
        "and may only interview 10 applicants.\n",
        "Only after an interview the company can identify the fitness of a certain applicant.\n",
        "The company also knows how the labor market stats:\\\n",
        "The job applicants population is normally distributed with a mean of 50 and a standard deviation 20."
      ],
      "metadata": {
        "id": "DFg8U8TAZtVd"
      }
    },
    {
      "cell_type": "code",
      "source": [
        "#Importing necessary python modules\n",
        "import matplotlib.pyplot as plt\n",
        "import seaborn as sns\n",
        "import numpy as np\n",
        "import pandas as pd"
      ],
      "metadata": {
        "id": "ltSkd3zwZkD3"
      },
      "execution_count": 9,
      "outputs": []
    },
    {
      "cell_type": "code",
      "source": [
        "population_data = [int(i) for i in np.random.normal(loc = 50, scale = 20, size = 10**5) if i>=0 and i<=100]\n",
        "\n",
        "sns. histplot(population_data)\n",
        "\n",
        "plt.xlabel('Fitness_score')\n",
        "plt.ylabel('Frequency')"
      ],
      "metadata": {
        "colab": {
          "base_uri": "https://localhost:8080/",
          "height": 467
        },
        "id": "h13P6h-daszs",
        "outputId": "dd360c69-b555-48b4-f150-81cdc6160cf6"
      },
      "execution_count": 10,
      "outputs": [
        {
          "output_type": "execute_result",
          "data": {
            "text/plain": [
              "Text(0, 0.5, 'Frequency')"
            ]
          },
          "metadata": {},
          "execution_count": 10
        },
        {
          "output_type": "display_data",
          "data": {
            "text/plain": [
              "<Figure size 640x480 with 1 Axes>"
            ],
            "image/png": "[encoded data removed]"
          },
          "metadata": {}
        }
      ]
    },
    {
      "cell_type": "markdown",
      "source": [
        "Now you see.\n",
        "\n",
        "There will be a possibility that the interviewer may identify an applicant who is a better fit for the position on the remaining trials.\n",
        "\n",
        "And of course, rejecting a current applicant may be a huge regret too...\n",
        "\n",
        "So, given a spesific 30 applicants being interviewed on a random squence, what would be a good scores to settle for each trial?"
      ],
      "metadata": {
        "id": "O7s_5CpjbcKX"
      }
    },
    {
      "cell_type": "code",
      "source": [
        "#converting population data to a pandas series to draw a random sample with a random_state =351\n",
        "applicants = pd.Series(population_data).sample(frac = 30 / len(population_data), random_state = 351)\n",
        "#converting back to a list\n",
        "applicants = applicants.to_list()\n",
        "\n",
        "applicants"
      ],
      "metadata": {
        "colab": {
          "base_uri": "https://localhost:8080/"
        },
        "id": "BnNISNx_bNVV",
        "outputId": "fc8eb5ee-87de-4b57-9c30-d49d38264331"
      },
      "execution_count": 11,
      "outputs": [
        {
          "output_type": "execute_result",
          "data": {
            "text/plain": [
              "[43,\n",
              " 54,\n",
              " 58,\n",
              " 38,\n",
              " 37,\n",
              " 54,\n",
              " 40,\n",
              " 76,\n",
              " 82,\n",
              " 61,\n",
              " 57,\n",
              " 82,\n",
              " 76,\n",
              " 68,\n",
              " 12,\n",
              " 37,\n",
              " 72,\n",
              " 48,\n",
              " 36,\n",
              " 32,\n",
              " 50,\n",
              " 44,\n",
              " 31,\n",
              " 37,\n",
              " 43,\n",
              " 64,\n",
              " 62,\n",
              " 17,\n",
              " 37,\n",
              " 42]"
            ]
          },
          "metadata": {},
          "execution_count": 11
        }
      ]
    },
    {
      "cell_type": "code",
      "source": [
        "#trial 1: picking up a random applicant\n",
        "current_applicant = np.random.choice(applicants, replace=False)\n",
        "#removing the current applicant from the uninterviewed crowd\n",
        "applicants.remove(current_applicant)\n",
        "current_applicant"
      ],
      "metadata": {
        "colab": {
          "base_uri": "https://localhost:8080/"
        },
        "id": "Ru53oiwtdk8e",
        "outputId": "138fbd5a-6651-40a3-e0b9-d6e2461c102f"
      },
      "execution_count": 23,
      "outputs": [
        {
          "output_type": "execute_result",
          "data": {
            "text/plain": [
              "np.int64(62)"
            ]
          },
          "metadata": {},
          "execution_count": 23
        }
      ]
    },
    {
      "cell_type": "code",
      "source": [
        "#The probability of getting a better applicant on the remaining trails based on the population information\n",
        "1 - (\n",
        "len(\n",
        "pd.Series(population_data) [pd.Series(population_data)<= current_applicant]\n",
        ") / len(population_data)\n",
        ")**9"
      ],
      "metadata": {
        "colab": {
          "base_uri": "https://localhost:8080/"
        },
        "id": "UL7_3VTPetu3",
        "outputId": "11fa5061-e551-4aed-b66c-647e17458c11"
      },
      "execution_count": 25,
      "outputs": [
        {
          "output_type": "execute_result",
          "data": {
            "text/plain": [
              "0.9283482851418746"
            ]
          },
          "metadata": {},
          "execution_count": 25
        }
      ]
    },
    {
      "cell_type": "code",
      "source": [
        "#trial 2: picking a random applicant\n",
        "current_applicant = np.random.choice(applicants, replace=False)\n",
        "#removing the current applicant from the uninterviewed crowd\n",
        "applicants.remove(current_applicant)\n",
        "current_applicant"
      ],
      "metadata": {
        "colab": {
          "base_uri": "https://localhost:8080/"
        },
        "id": "FYBdutWggBQs",
        "outputId": "c6895c94-c8b1-49ab-f87d-9a4f8cad6fdd"
      },
      "execution_count": 28,
      "outputs": [
        {
          "output_type": "execute_result",
          "data": {
            "text/plain": [
              "np.int64(61)"
            ]
          },
          "metadata": {},
          "execution_count": 28
        }
      ]
    },
    {
      "cell_type": "code",
      "source": [
        "#The probability of getting a better applicant on the remaining trails based on the population information\n",
        "1 - (\n",
        "len(\n",
        "pd.Series(population_data) [pd.Series(population_data)<= current_applicant]\n",
        ") / len(population_data)\n",
        ")**8"
      ],
      "metadata": {
        "colab": {
          "base_uri": "https://localhost:8080/"
        },
        "id": "3GZKrqIRmjdJ",
        "outputId": "9ab25305-6dc2-49a5-b285-ece5a6216892"
      },
      "execution_count": 29,
      "outputs": [
        {
          "output_type": "execute_result",
          "data": {
            "text/plain": [
              "0.9198054996770918"
            ]
          },
          "metadata": {},
          "execution_count": 29
        }
      ]
    },
    {
      "cell_type": "code",
      "source": [
        "#trial 3: picking up a random applicant\n",
        "current_applicant = np.random.choice(applicants, replace=False)\n",
        "#removing the current applicant from the uninterviewed crowd\n",
        "applicants.remove(current_applicant)\n",
        "current_applicant"
      ],
      "metadata": {
        "colab": {
          "base_uri": "https://localhost:8080/"
        },
        "id": "lOSscHKImyBU",
        "outputId": "3dc949f2-030f-4701-937f-a9430fb37280"
      },
      "execution_count": 30,
      "outputs": [
        {
          "output_type": "execute_result",
          "data": {
            "text/plain": [
              "np.int64(50)"
            ]
          },
          "metadata": {},
          "execution_count": 30
        }
      ]
    },
    {
      "cell_type": "code",
      "source": [
        "#The probability of getting a better applicant on the remaining trails based on the population information\n",
        "1 - (\n",
        "len(\n",
        "pd.Series(population_data) [pd.Series(population_data)<= current_applicant]\n",
        ") / len(population_data)\n",
        ")**7"
      ],
      "metadata": {
        "colab": {
          "base_uri": "https://localhost:8080/"
        },
        "id": "aXF_6I7wnCG-",
        "outputId": "80923831-780a-4ed5-fc3c-1c7b3e500a2f"
      },
      "execution_count": 31,
      "outputs": [
        {
          "output_type": "execute_result",
          "data": {
            "text/plain": [
              "0.9895856745918422"
            ]
          },
          "metadata": {},
          "execution_count": 31
        }
      ]
    },
    {
      "cell_type": "code",
      "source": [
        "#A generalization of trials and outcomes\n",
        "instance = {}\n",
        "\n",
        "applicants = pd.Series(population_data).sample(frac=30/len(population_data), random_state =351).to_list()\n",
        "\n",
        "for t in np.arange(1, 10+1):\n",
        "  current_applicant = np.random.choice(applicants, replace = False)\n",
        "  applicants.remove(current_applicant)\n",
        "\n",
        "  instance[t] = current_applicant, 1-(\n",
        "    len(\n",
        "    pd.Series(population_data) [pd.Series(population_data)<= current_applicant]\n",
        "    ) / len(population_data)\n",
        "    )**(10-t)\n",
        "instance"
      ],
      "metadata": {
        "colab": {
          "base_uri": "https://localhost:8080/"
        },
        "id": "YHqPRamNnG68",
        "outputId": "53227621-0511-48d6-b45a-70814965e234"
      },
      "execution_count": 33,
      "outputs": [
        {
          "output_type": "execute_result",
          "data": {
            "text/plain": [
              "{np.int64(1): (np.int64(44), np.float64(0.9997478451340307)),\n",
              " np.int64(2): (np.int64(37), np.float64(0.9999707453890496)),\n",
              " np.int64(3): (np.int64(82), np.float64(0.26735550661125906)),\n",
              " np.int64(4): (np.int64(68), np.float64(0.6664463721710481)),\n",
              " np.int64(5): (np.int64(40), np.float64(0.9964176316271666)),\n",
              " np.int64(6): (np.int64(37), np.float64(0.9945912468210923)),\n",
              " np.int64(7): (np.int64(54), np.float64(0.7831767906587661)),\n",
              " np.int64(8): (np.int64(36), np.float64(0.9350506908869161)),\n",
              " np.int64(9): (np.int64(64), np.float64(0.2227913709848861)),\n",
              " np.int64(10): (np.int64(82), np.float64(0.0))}"
            ]
          },
          "metadata": {},
          "execution_count": 33
        }
      ]
    },
    {
      "cell_type": "markdown",
      "source": [
        "What is the probability of regretting to reject an applicant scoring over 70?"
      ],
      "metadata": {
        "id": "8irS_JZlpP9G"
      }
    },
    {
      "cell_type": "code",
      "source": [
        "#  A generalization of trials and outcomes\n",
        "liste = []\n",
        "\n",
        "for i in np.arange(10**3):\n",
        "\n",
        "  instance = []\n",
        "\n",
        "  regret = 0\n",
        "\n",
        "  applicants = pd.Series( population_data ).sample( frac = 30/len( population_data ), random_state = 351 ).to_list()\n",
        "\n",
        "  k = None\n",
        "  for t in np.arange(10):\n",
        "\n",
        "    current_applicant = np.random.choice( applicants, replace = False )\n",
        "    applicants.remove( current_applicant )\n",
        "\n",
        "    instance.append( current_applicant )\n",
        "\n",
        "    if (instance[-1] >= 70) and (k == None):\n",
        "      k = t\n",
        "\n",
        "    if k != None:\n",
        "      regret += len( pd.Series( instance[k:] )[ pd.Series(instance[k:]) > instance[k] ] )\n",
        "\n",
        "  regret = bool(1 - bool(regret))\n",
        "\n",
        "  if k != None:\n",
        "    liste.append(regret)\n",
        "\n",
        "np.array(liste).mean()"
      ],
      "metadata": {
        "colab": {
          "base_uri": "https://localhost:8080/"
        },
        "id": "4GE4Whv2pEmB",
        "outputId": "51e6de15-d2ab-4b0f-b710-3cb2e94f2c8c"
      },
      "execution_count": 37,
      "outputs": [
        {
          "output_type": "execute_result",
          "data": {
            "text/plain": [
              "np.float64(0.7213225371120108)"
            ]
          },
          "metadata": {},
          "execution_count": 37
        }
      ]
    },
    {
      "cell_type": "markdown",
      "source": [
        "What is the probability of rejecting to hire the first applicant scoring over 75?"
      ],
      "metadata": {
        "id": "nU1hKtabt63o"
      }
    },
    {
      "cell_type": "code",
      "source": [
        "#  A generalization of trials and outcomes\n",
        "liste = []\n",
        "\n",
        "for i in np.arange(10**4):\n",
        "\n",
        "  instance = []\n",
        "\n",
        "  regret = 0\n",
        "\n",
        "  applicants = pd.Series( population_data ).sample( frac = 30/len( population_data ), random_state = 351 ).to_list()\n",
        "\n",
        "  k = None\n",
        "  for t in np.arange(10):\n",
        "\n",
        "    current_applicant = np.random.choice( applicants, replace = False )\n",
        "    applicants.remove( current_applicant )\n",
        "\n",
        "    instance.append( current_applicant )\n",
        "\n",
        "    if (instance[-1] >= 75) and (k == None):\n",
        "      k = t\n",
        "\n",
        "    if k != None:\n",
        "      regret += len( pd.Series( instance[k:] )[ pd.Series(instance[k:]) > instance[k] ] )\n",
        "\n",
        "  regret = bool(regret)\n",
        "\n",
        "  if k != None:\n",
        "    liste.append(regret)\n",
        "\n",
        "np.array(liste).mean()"
      ],
      "metadata": {
        "colab": {
          "base_uri": "https://localhost:8080/"
        },
        "id": "dw1IQyzDuFJf",
        "outputId": "a2139982-288d-4c51-ad68-99b74cc09271"
      },
      "execution_count": 39,
      "outputs": [
        {
          "output_type": "execute_result",
          "data": {
            "text/plain": [
              "np.float64(0.1860323640345541)"
            ]
          },
          "metadata": {},
          "execution_count": 39
        }
      ]
    },
    {
      "cell_type": "code",
      "source": [],
      "metadata": {
        "id": "6gvnubDqvJ_n"
      },
      "execution_count": null,
      "outputs": []
    }
  ]
}