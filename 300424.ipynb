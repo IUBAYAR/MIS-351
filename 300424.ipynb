{
  "nbformat": 4,
  "nbformat_minor": 0,
  "metadata": {
    "colab": {
      "provenance": [],
      "authorship_tag": "ABX9TyMCN9jso/jwP9757U64YxGl",
      "include_colab_link": true
    },
    "kernelspec": {
      "name": "python3",
      "display_name": "Python 3"
    },
    "language_info": {
      "name": "python"
    }
  },
  "cells": [
    {
      "cell_type": "markdown",
      "metadata": {
        "id": "view-in-github",
        "colab_type": "text"
      },
      "source": [
        "<a href=\"https://colab.research.google.com/github/IUBAYAR/MIS-351/blob/main/300424.ipynb\" target=\"_parent\"><img src=\"https://colab.research.google.com/assets/colab-badge.svg\" alt=\"Open In Colab\"/></a>"
      ]
    },
    {
      "cell_type": "markdown",
      "source": [
        "Q1:The Theater Row\\\n",
        "\n",
        "8 eligible bachelors and 7 beautiful models happen randomly to have purchased single seats in the same 15-seat row of a theater. On the average, how many pairs of adjacent seats are ticketed for marriageable couples?"
      ],
      "metadata": {
        "id": "UtYlb6l7-Ez6"
      }
    },
    {
      "cell_type": "code",
      "source": [
        "import numpy as np\n",
        "import pandas as pd"
      ],
      "metadata": {
        "id": "B4c692sN-HAn"
      },
      "execution_count": null,
      "outputs": []
    },
    {
      "cell_type": "code",
      "source": [
        "liste = []\n",
        "for i in range(10**4):\n",
        "  #defining the sample space\n",
        "  sample_space =['M' for i in range(8)] + ['F' for i in range(7)]\n",
        "  #creating a random sequence of ladies and gentlemen\n",
        "  np.random.shuffle(sample_space)\n",
        "\n",
        "  #possible issues:\n",
        "  # * starts with the same gender twice\n",
        "  # * ends with the same gender twice\n",
        "  # * 3 same genders in a row\n",
        "\n",
        "  potentially = 7\n",
        "  if sample_space[0] == sample_space[1]:\n",
        "    potentially -=1\n",
        "    sample_space.pop(0)\n",
        "  if sample_space[-1] == sample_space[-2]:\n",
        "    potentially -=1\n",
        "    sample_space.pop(-1)\n",
        "  for i in range(1, len(sample_space)-1):\n",
        "    if (sample_space[i-1] == sample_space[i]) and (sample_space[i] == sample_space[i+1]):\n",
        "      potentially -=1\n",
        "  liste.append(potentially)\n",
        "np.array(liste).mean()\n",
        "\n"
      ],
      "metadata": {
        "colab": {
          "base_uri": "https://localhost:8080/"
        },
        "id": "t66IsmEV_Bif",
        "outputId": "bea37403-6ff5-423a-a3dd-b3037a645058"
      },
      "execution_count": null,
      "outputs": [
        {
          "output_type": "execute_result",
          "data": {
            "text/plain": [
              "3.8637"
            ]
          },
          "metadata": {},
          "execution_count": 2
        }
      ]
    },
    {
      "cell_type": "code",
      "source": [],
      "metadata": {
        "id": "yWjX1YA9Cmoj"
      },
      "execution_count": null,
      "outputs": []
    }
  ]
}