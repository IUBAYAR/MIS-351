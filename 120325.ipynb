{
  "nbformat": 4,
  "nbformat_minor": 0,
  "metadata": {
    "colab": {
      "provenance": [],
      "authorship_tag": "ABX9TyOiBOzAnNFqwgyUIb3ObO70",
      "include_colab_link": true
    },
    "kernelspec": {
      "name": "python3",
      "display_name": "Python 3"
    },
    "language_info": {
      "name": "python"
    }
  },
  "cells": [
    {
      "cell_type": "markdown",
      "metadata": {
        "id": "view-in-github",
        "colab_type": "text"
      },
      "source": [
        "<a href=\"https://colab.research.google.com/github/IUBAYAR/MIS-351/blob/main/120325.ipynb\" target=\"_parent\"><img src=\"https://colab.research.google.com/assets/colab-badge.svg\" alt=\"Open In Colab\"/></a>"
      ]
    },
    {
      "cell_type": "code",
      "execution_count": 10,
      "metadata": {
        "id": "n-gwDKgET0nL"
      },
      "outputs": [],
      "source": [
        "import numpy as np\n",
        "import pandas as pd"
      ]
    },
    {
      "cell_type": "markdown",
      "source": [
        "Q1: Jack owns a pair of biased dice. The probability of getting a number on this dice is proportional to the number itself. Jack runs a bet company and who collects all the sums from 2 to 12 before 20/50/100 rolls win.\n",
        "\n",
        "What is the probability that Jack wins instead of a customer?"
      ],
      "metadata": {
        "id": "nUffE6vkUUKf"
      }
    },
    {
      "cell_type": "code",
      "source": [
        "liste = []\n",
        "for i in range(10**3):\n",
        "  collection = []\n",
        "  counter = 0\n",
        "  while len(set(collection)) < 11:\n",
        "    counter +=1\n",
        "    collection.append(np.random.choice(\n",
        "                                        [1,2,3,4,5,6],\n",
        "                                        p = [1/21, 2/21, 3/21, 4/21, 5/21, 6/21],\n",
        "                                        size = 2\n",
        "                                      ).sum())\n",
        "    counter\n",
        "    if counter >=100:\n",
        "      liste.append(1)\n",
        "    else:\n",
        "      liste.append(0)\n",
        "np.array(liste).mean()"
      ],
      "metadata": {
        "colab": {
          "base_uri": "https://localhost:8080/"
        },
        "id": "riZ5cWb0UW0o",
        "outputId": "c09ec2ba-5267-4d78-8b72-02f394d0e32c"
      },
      "execution_count": 3,
      "outputs": [
        {
          "output_type": "execute_result",
          "data": {
            "text/plain": [
              "0.7976347494307402"
            ]
          },
          "metadata": {},
          "execution_count": 3
        }
      ]
    },
    {
      "cell_type": "markdown",
      "source": [
        "Q2:\n",
        "In a statistics marathon, a game of coins as such is defined:\\\n",
        "\\\n",
        "In order to win; \\\n",
        "* The first coin must be HEADS,\n",
        "* Then until a series of \"TAILS, TAILS, TAILS, HEADS\" is obtained the tosses continue.\n",
        "\n",
        "If this conditions is satisfied before 20 tosses, the player wins.\\\n",
        "What is the probability of winning?"
      ],
      "metadata": {
        "id": "r-oGqcGHYJzM"
      }
    },
    {
      "cell_type": "code",
      "source": [
        "#  Simulating the game\n",
        "liste = []\n",
        "\n",
        "for i in range(10**3):\n",
        "  #  Tossing a coin is our random variable:\n",
        "  x = np.random.choice(\n",
        "                      ['H','T',],\n",
        "                      p = [.5, .5,],\n",
        "                      size = 19\n",
        "                      )\n",
        "\n",
        "  #  Transforming all 99 tosses into a string\n",
        "  tosses = ''\n",
        "  for toss in x:\n",
        "    tosses += toss\n",
        "\n",
        "  #  Recording game results\n",
        "  if (tosses[0] == 'H') and ('TTTH' in tosses[1:]):\n",
        "    liste.append(1)\n",
        "  else:\n",
        "    liste.append(0)\n",
        "\n",
        "#  Analyzing cumulated results:\n",
        "np.array( liste ).mean()"
      ],
      "metadata": {
        "colab": {
          "base_uri": "https://localhost:8080/"
        },
        "id": "LiSE2fhZYNcY",
        "outputId": "9b9971b7-3dfd-46ac-c31a-7664fc41df39"
      },
      "execution_count": 8,
      "outputs": [
        {
          "output_type": "execute_result",
          "data": {
            "text/plain": [
              "0.355"
            ]
          },
          "metadata": {},
          "execution_count": 8
        }
      ]
    },
    {
      "cell_type": "markdown",
      "source": [
        "Q3:\n",
        "For the same question, to win, given the first coin is HEADS, on average how many tosses are required?"
      ],
      "metadata": {
        "id": "Oc07BpWVboVl"
      }
    },
    {
      "cell_type": "code",
      "source": [
        "liste = []\n",
        "\n",
        "for i in range(10**3):\n",
        "  tosses = ''\n",
        "  tosses += np.random.choice(\n",
        "                            ['H','T',],\n",
        "                            p = [.5, .5,],\n",
        "                            )\n",
        "  counter = 1\n",
        "\n",
        "  if tosses[0] != 'H':\n",
        "      continue\n",
        "  else:\n",
        "    while not ((tosses[0]== 'H') and ('TTTH' in tosses[1:])):\n",
        "      counter +=1\n",
        "\n",
        "      tosses += np.random.choice(\n",
        "                                 ['H','T',],\n",
        "                                p = [.5, .5,],\n",
        "                                )\n",
        "    liste.append(len(tosses))\n",
        "pd.Series(liste).mean()"
      ],
      "metadata": {
        "colab": {
          "base_uri": "https://localhost:8080/"
        },
        "id": "bnTcgfO2btru",
        "outputId": "ccf733f9-601f-4bf6-bac3-47a2ee59fb43"
      },
      "execution_count": 17,
      "outputs": [
        {
          "output_type": "execute_result",
          "data": {
            "text/plain": [
              "17.14757281553398"
            ]
          },
          "metadata": {},
          "execution_count": 17
        }
      ]
    },
    {
      "cell_type": "markdown",
      "source": [
        "Q4: Given the coin is not fair but the probability of getting TAILS is 4 times likely as getting HEADS. What is the probability of winning in 100 tosses?"
      ],
      "metadata": {
        "id": "eM8QkHePeHRG"
      }
    },
    {
      "cell_type": "code",
      "source": [
        "#  Simulating the game\n",
        "liste = []\n",
        "\n",
        "for i in range(10**3):\n",
        "  #  Tossing a coin is our random variable:\n",
        "  x = np.random.choice(\n",
        "                      ['H','T',],\n",
        "                      p = [.2, .8,],\n",
        "                      size = 100\n",
        "                      )\n",
        "  #  Transforming all 99 tosses into a string\n",
        "  tosses = ''\n",
        "  for toss in x:\n",
        "    tosses += toss\n",
        "\n",
        "  #  Recording game results\n",
        "  if (tosses[0] == 'H') and ('TTTH' in tosses[1:]):\n",
        "    liste.append(1)\n",
        "  else:\n",
        "    liste.append(0)\n",
        "\n",
        "#  Analyzing cumulated results:\n",
        "np.array( liste ).mean()"
      ],
      "metadata": {
        "colab": {
          "base_uri": "https://localhost:8080/"
        },
        "id": "SpSfekX1egVm",
        "outputId": "59ec8391-19b5-4915-da62-94998584cf7d"
      },
      "execution_count": 21,
      "outputs": [
        {
          "output_type": "execute_result",
          "data": {
            "text/plain": [
              "0.206"
            ]
          },
          "metadata": {},
          "execution_count": 21
        }
      ]
    },
    {
      "cell_type": "markdown",
      "source": [
        "Q5:\n",
        "Samuel Pepys wrote Sir Isaac Newton to ask which of the three events is more likely?\\\n",
        "That a person get\\\n",
        "* at least 1 six when 6 dice are rolled,\n",
        "* at least 2 sixes when 12 dice are rolled,\n",
        "* at least 3 sixes when 18 dice are rolled.\n",
        "\n",
        "\\\n",
        "Suppose you are assisting Isaac, how would you respond?"
      ],
      "metadata": {
        "id": "qfPqJh7TfoFI"
      }
    },
    {
      "cell_type": "code",
      "source": [
        "#at least 1 six when 6 dice are rolled\n",
        "six = []\n",
        "for i in range(10**3):\n",
        "  x=np.random.choice(\n",
        "                    [1,2,3,4,5,6],\n",
        "                    p = [1/6, 1/6, 1/6, 1/6, 1/6, 1/6],\n",
        "                    size = 6\n",
        "                    )\n",
        "  x = pd.Series(x)\n",
        "  six.append(len(x[x>=6]))\n",
        "\n",
        "six = pd.Series(six)\n",
        "len(six[six>=1]) / len(six)"
      ],
      "metadata": {
        "colab": {
          "base_uri": "https://localhost:8080/"
        },
        "id": "36PjELM8iQKM",
        "outputId": "e5af156e-ba56-4831-96df-4e59e5434d38"
      },
      "execution_count": 22,
      "outputs": [
        {
          "output_type": "execute_result",
          "data": {
            "text/plain": [
              "0.677"
            ]
          },
          "metadata": {},
          "execution_count": 22
        }
      ]
    },
    {
      "cell_type": "code",
      "source": [
        "#at least 2 six when 12 dice are rolled\n",
        "twelve = []\n",
        "for i in range(10**3):\n",
        "  x=np.random.choice(\n",
        "                    [1,2,3,4,5,6],\n",
        "                    p = [1/6, 1/6, 1/6, 1/6, 1/6, 1/6],\n",
        "                    size = 12\n",
        "                    )\n",
        "  x = pd.Series(x)\n",
        "  twelve.append(len(x[x>=6]))\n",
        "\n",
        "twelve = pd.Series(six)\n",
        "len(twelve[twelve>=2]) / len(twelve)\n"
      ],
      "metadata": {
        "colab": {
          "base_uri": "https://localhost:8080/"
        },
        "id": "UdpxBlUCm2o8",
        "outputId": "4168b5ae-6cde-4342-9327-8b2643a1aa12"
      },
      "execution_count": 23,
      "outputs": [
        {
          "output_type": "execute_result",
          "data": {
            "text/plain": [
              "0.243"
            ]
          },
          "metadata": {},
          "execution_count": 23
        }
      ]
    },
    {
      "cell_type": "code",
      "source": [
        "#at least 3 six when 18 dice are rolled\n",
        "eighteen = []\n",
        "for i in range(10**3):\n",
        "  x=np.random.choice(\n",
        "                    [1,2,3,4,5,6],\n",
        "                    p = [1/6, 1/6, 1/6, 1/6, 1/6, 1/6],\n",
        "                    size = 18\n",
        "                    )\n",
        "  x = pd.Series(x)\n",
        "  eighteen.append(len(x[x>=6]))\n",
        "\n",
        "eighteen = pd.Series(six)\n",
        "len(eighteen[eighteen>=3]) / len(eighteen)"
      ],
      "metadata": {
        "colab": {
          "base_uri": "https://localhost:8080/"
        },
        "id": "rs3_MJP3npBR",
        "outputId": "7cf23109-a118-4fba-a4a3-709b7103396b"
      },
      "execution_count": 24,
      "outputs": [
        {
          "output_type": "execute_result",
          "data": {
            "text/plain": [
              "0.061"
            ]
          },
          "metadata": {},
          "execution_count": 24
        }
      ]
    },
    {
      "cell_type": "markdown",
      "source": [
        "Q6:\n",
        "8 eligible bachelors and 7 beautiful models happen randomly to have purchased single seats in the same 15-seat row of a theater. On the average, how many pairs of adjacent seats are ticketed for marriageable couples?"
      ],
      "metadata": {
        "id": "A0FJTNkRpDZI"
      }
    },
    {
      "cell_type": "code",
      "source": [],
      "metadata": {
        "id": "265d6zZApD99"
      },
      "execution_count": null,
      "outputs": []
    }
  ]
}