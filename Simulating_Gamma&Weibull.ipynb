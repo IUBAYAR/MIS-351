{
  "cells": [
    {
      "cell_type": "markdown",
      "metadata": {
        "id": "view-in-github",
        "colab_type": "text"
      },
      "source": [
        "<a href=\"https://colab.research.google.com/github/IUBAYAR/MIS-351/blob/main/Simulating_Gamma%26Weibull.ipynb\" target=\"_parent\"><img src=\"https://colab.research.google.com/assets/colab-badge.svg\" alt=\"Open In Colab\"/></a>"
      ]
    },
    {
      "cell_type": "code",
      "execution_count": null,
      "id": "76abba95-2730-4e75-a8ad-ec12fea8cf49",
      "metadata": {
        "id": "76abba95-2730-4e75-a8ad-ec12fea8cf49",
        "outputId": "fdcc3f13-8560-48dc-d3d9-e67bbc1ce642"
      },
      "outputs": [
        {
          "name": "stdout",
          "output_type": "stream",
          "text": [
            "Collecting numpy\n",
            "  Using cached numpy-2.0.2-cp39-cp39-macosx_14_0_arm64.whl.metadata (60 kB)\n",
            "Using cached numpy-2.0.2-cp39-cp39-macosx_14_0_arm64.whl (5.3 MB)\n",
            "Installing collected packages: numpy\n",
            "\u001b[31mERROR: pip's dependency resolver does not currently take into account all the packages that are installed. This behaviour is the source of the following dependency conflicts.\n",
            "statsmodels 0.14.4 requires pandas!=2.1.0,>=1.4, which is not installed.\u001b[0m\u001b[31m\n",
            "\u001b[0mSuccessfully installed numpy-2.0.2\n",
            "Collecting pandas\n",
            "  Using cached pandas-2.2.3-cp39-cp39-macosx_11_0_arm64.whl.metadata (89 kB)\n",
            "Requirement already satisfied: numpy>=1.22.4 in ./miniconda3/envs/py309/lib/python3.9/site-packages (from pandas) (2.0.2)\n",
            "Requirement already satisfied: python-dateutil>=2.8.2 in ./miniconda3/envs/py309/lib/python3.9/site-packages (from pandas) (2.9.0.post0)\n",
            "Requirement already satisfied: pytz>=2020.1 in ./miniconda3/envs/py309/lib/python3.9/site-packages (from pandas) (2025.2)\n",
            "Requirement already satisfied: tzdata>=2022.7 in ./miniconda3/envs/py309/lib/python3.9/site-packages (from pandas) (2025.2)\n",
            "Requirement already satisfied: six>=1.5 in ./miniconda3/envs/py309/lib/python3.9/site-packages (from python-dateutil>=2.8.2->pandas) (1.17.0)\n",
            "Using cached pandas-2.2.3-cp39-cp39-macosx_11_0_arm64.whl (11.3 MB)\n",
            "Installing collected packages: pandas\n",
            "\u001b[31mERROR: pip's dependency resolver does not currently take into account all the packages that are installed. This behaviour is the source of the following dependency conflicts.\n",
            "ppscore 1.3.0 requires pandas<2.0.0,>=1.0.0, but you have pandas 2.2.3 which is incompatible.\u001b[0m\u001b[31m\n",
            "\u001b[0mSuccessfully installed pandas-2.2.3\n",
            "Collecting matplotlib\n",
            "  Using cached matplotlib-3.9.4-cp39-cp39-macosx_11_0_arm64.whl.metadata (11 kB)\n",
            "Requirement already satisfied: contourpy>=1.0.1 in ./miniconda3/envs/py309/lib/python3.9/site-packages (from matplotlib) (1.3.0)\n",
            "Requirement already satisfied: cycler>=0.10 in ./miniconda3/envs/py309/lib/python3.9/site-packages (from matplotlib) (0.12.1)\n",
            "Requirement already satisfied: fonttools>=4.22.0 in ./miniconda3/envs/py309/lib/python3.9/site-packages (from matplotlib) (4.57.0)\n",
            "Requirement already satisfied: kiwisolver>=1.3.1 in ./miniconda3/envs/py309/lib/python3.9/site-packages (from matplotlib) (1.4.7)\n",
            "Requirement already satisfied: numpy>=1.23 in ./miniconda3/envs/py309/lib/python3.9/site-packages (from matplotlib) (2.0.2)\n",
            "Requirement already satisfied: packaging>=20.0 in ./miniconda3/envs/py309/lib/python3.9/site-packages (from matplotlib) (24.2)\n",
            "Requirement already satisfied: pillow>=8 in ./miniconda3/envs/py309/lib/python3.9/site-packages (from matplotlib) (11.2.1)\n",
            "Requirement already satisfied: pyparsing>=2.3.1 in ./miniconda3/envs/py309/lib/python3.9/site-packages (from matplotlib) (3.2.3)\n",
            "Requirement already satisfied: python-dateutil>=2.7 in ./miniconda3/envs/py309/lib/python3.9/site-packages (from matplotlib) (2.9.0.post0)\n",
            "Requirement already satisfied: importlib-resources>=3.2.0 in ./miniconda3/envs/py309/lib/python3.9/site-packages (from matplotlib) (6.5.2)\n",
            "Requirement already satisfied: zipp>=3.1.0 in ./miniconda3/envs/py309/lib/python3.9/site-packages (from importlib-resources>=3.2.0->matplotlib) (3.21.0)\n",
            "Requirement already satisfied: six>=1.5 in ./miniconda3/envs/py309/lib/python3.9/site-packages (from python-dateutil>=2.7->matplotlib) (1.17.0)\n",
            "Using cached matplotlib-3.9.4-cp39-cp39-macosx_11_0_arm64.whl (7.8 MB)\n",
            "Installing collected packages: matplotlib\n",
            "Successfully installed matplotlib-3.9.4\n",
            "Collecting seaborn\n",
            "  Using cached seaborn-0.13.2-py3-none-any.whl.metadata (5.4 kB)\n",
            "Requirement already satisfied: numpy!=1.24.0,>=1.20 in ./miniconda3/envs/py309/lib/python3.9/site-packages (from seaborn) (2.0.2)\n",
            "Requirement already satisfied: pandas>=1.2 in ./miniconda3/envs/py309/lib/python3.9/site-packages (from seaborn) (2.2.3)\n",
            "Requirement already satisfied: matplotlib!=3.6.1,>=3.4 in ./miniconda3/envs/py309/lib/python3.9/site-packages (from seaborn) (3.9.4)\n",
            "Requirement already satisfied: contourpy>=1.0.1 in ./miniconda3/envs/py309/lib/python3.9/site-packages (from matplotlib!=3.6.1,>=3.4->seaborn) (1.3.0)\n",
            "Requirement already satisfied: cycler>=0.10 in ./miniconda3/envs/py309/lib/python3.9/site-packages (from matplotlib!=3.6.1,>=3.4->seaborn) (0.12.1)\n",
            "Requirement already satisfied: fonttools>=4.22.0 in ./miniconda3/envs/py309/lib/python3.9/site-packages (from matplotlib!=3.6.1,>=3.4->seaborn) (4.57.0)\n",
            "Requirement already satisfied: kiwisolver>=1.3.1 in ./miniconda3/envs/py309/lib/python3.9/site-packages (from matplotlib!=3.6.1,>=3.4->seaborn) (1.4.7)\n",
            "Requirement already satisfied: packaging>=20.0 in ./miniconda3/envs/py309/lib/python3.9/site-packages (from matplotlib!=3.6.1,>=3.4->seaborn) (24.2)\n",
            "Requirement already satisfied: pillow>=8 in ./miniconda3/envs/py309/lib/python3.9/site-packages (from matplotlib!=3.6.1,>=3.4->seaborn) (11.2.1)\n",
            "Requirement already satisfied: pyparsing>=2.3.1 in ./miniconda3/envs/py309/lib/python3.9/site-packages (from matplotlib!=3.6.1,>=3.4->seaborn) (3.2.3)\n",
            "Requirement already satisfied: python-dateutil>=2.7 in ./miniconda3/envs/py309/lib/python3.9/site-packages (from matplotlib!=3.6.1,>=3.4->seaborn) (2.9.0.post0)\n",
            "Requirement already satisfied: importlib-resources>=3.2.0 in ./miniconda3/envs/py309/lib/python3.9/site-packages (from matplotlib!=3.6.1,>=3.4->seaborn) (6.5.2)\n",
            "Requirement already satisfied: zipp>=3.1.0 in ./miniconda3/envs/py309/lib/python3.9/site-packages (from importlib-resources>=3.2.0->matplotlib!=3.6.1,>=3.4->seaborn) (3.21.0)\n",
            "Requirement already satisfied: pytz>=2020.1 in ./miniconda3/envs/py309/lib/python3.9/site-packages (from pandas>=1.2->seaborn) (2025.2)\n",
            "Requirement already satisfied: tzdata>=2022.7 in ./miniconda3/envs/py309/lib/python3.9/site-packages (from pandas>=1.2->seaborn) (2025.2)\n",
            "Requirement already satisfied: six>=1.5 in ./miniconda3/envs/py309/lib/python3.9/site-packages (from python-dateutil>=2.7->matplotlib!=3.6.1,>=3.4->seaborn) (1.17.0)\n",
            "Using cached seaborn-0.13.2-py3-none-any.whl (294 kB)\n",
            "Installing collected packages: seaborn\n",
            "Successfully installed seaborn-0.13.2\n"
          ]
        }
      ],
      "source": [
        "#  install basic python modules\n",
        "!pip install numpy\n",
        "!pip install pandas\n",
        "!pip install matplotlib\n",
        "!pip install seaborn"
      ]
    },
    {
      "cell_type": "code",
      "execution_count": null,
      "id": "4b528e19-110b-4cd3-9325-c8ef09a8e7cd",
      "metadata": {
        "id": "4b528e19-110b-4cd3-9325-c8ef09a8e7cd"
      },
      "outputs": [],
      "source": [
        "#  start python modules running\n",
        "import numpy as np\n",
        "import pandas as pd"
      ]
    },
    {
      "cell_type": "markdown",
      "id": "2638f64d-795b-44bf-87e8-73d941eb2ab4",
      "metadata": {
        "id": "2638f64d-795b-44bf-87e8-73d941eb2ab4"
      },
      "source": [
        "#  Gamma Distribution"
      ]
    },
    {
      "cell_type": "markdown",
      "id": "48424eba-3099-426a-8163-df90402279a3",
      "metadata": {
        "id": "48424eba-3099-426a-8163-df90402279a3"
      },
      "source": [
        "np.random.gamma() has 3 arguments:\n",
        "* shape (k),\n",
        "* scale (expected time intervals between events),\n",
        "* size\n",
        "\n",
        "shape and scale defines the number of occurances of a specific event, and the usual (expected) time lapse between occurances of that event.\n",
        "size is the number random numbers generated.\n",
        "\n",
        "A gamma distribution is an extension to the Poisson or Exponential distributions.\n",
        "In a Poisson dist. the random variable is the number of occurances of a specific event within a time period,\n",
        "in an Exponential dist. the random variable is the time you need to wait until the event occurs for the first time.\n",
        "On the other hand, for the Gamma distribution, the random variable is the time you need to wait until k events occur."
      ]
    },
    {
      "cell_type": "markdown",
      "id": "17ac7b91-f9b9-499e-ae2e-af69484fe87c",
      "metadata": {
        "id": "17ac7b91-f9b9-499e-ae2e-af69484fe87c"
      },
      "source": [
        "## Problem\n",
        "\n",
        "So, we did not schedule the class on a specific time. But we had said that it will be in wednesday afternoon.\n",
        "\n",
        "I have arrived to the school and I am waiting for the students to appear.\n",
        "\n",
        "The class enrollment is 20 students, and I need at least 60% in class. How long do I have to wait?\n",
        "\n",
        "I have monitored that each 217 seconds a student comes to the class."
      ]
    },
    {
      "cell_type": "code",
      "execution_count": null,
      "id": "1da396a6-86c9-4c01-b54d-f661deaa6c26",
      "metadata": {
        "id": "1da396a6-86c9-4c01-b54d-f661deaa6c26"
      },
      "outputs": [],
      "source": [
        "k = 12\n",
        "scale = 217"
      ]
    },
    {
      "cell_type": "code",
      "execution_count": null,
      "id": "059859ea-0a60-4942-8c83-36bad7259790",
      "metadata": {
        "id": "059859ea-0a60-4942-8c83-36bad7259790",
        "outputId": "1aa3a4a4-04f8-4259-dcd2-a859148b3671"
      },
      "outputs": [
        {
          "data": {
            "text/plain": [
              "array([1983.35347757, 3408.81002614, 3392.62637741, ..., 2688.81870824,\n",
              "       1953.77222837, 2455.21875917])"
            ]
          },
          "execution_count": 3,
          "metadata": {},
          "output_type": "execute_result"
        }
      ],
      "source": [
        "#  create a large number of random variable instances\n",
        "np.random.gamma(\n",
        "                shape = k,\n",
        "                scale = scale,\n",
        "                size = 10**6\n",
        "                )"
      ]
    },
    {
      "cell_type": "code",
      "execution_count": null,
      "id": "07350fbe-96c2-43ce-8ea8-84305613c208",
      "metadata": {
        "id": "07350fbe-96c2-43ce-8ea8-84305613c208",
        "outputId": "594c90bc-98a9-4a79-da2b-399d7ba7bdf1"
      },
      "outputs": [
        {
          "data": {
            "text/plain": [
              "np.float64(43.39609072838296)"
            ]
          },
          "execution_count": 4,
          "metadata": {},
          "output_type": "execute_result"
        }
      ],
      "source": [
        "#  Computing the expected time before 12 students appear in class\n",
        "X = np.random.gamma(\n",
        "                shape = k,\n",
        "                scale = scale,\n",
        "                size = 10**6\n",
        "                )\n",
        "\n",
        "X.mean() / 60"
      ]
    },
    {
      "cell_type": "markdown",
      "id": "cd23d0dd-5e0b-4388-a266-9eaa8e2efe30",
      "metadata": {
        "id": "cd23d0dd-5e0b-4388-a266-9eaa8e2efe30"
      },
      "source": [
        "What is the probability that I get to wait for no longer than 20 minutes?"
      ]
    },
    {
      "cell_type": "code",
      "execution_count": null,
      "id": "7e37b293-ebf1-4d37-aa7e-90dc1cb30eb5",
      "metadata": {
        "id": "7e37b293-ebf1-4d37-aa7e-90dc1cb30eb5",
        "outputId": "89aedbe6-79f5-48de-905c-c2bcd1933f38"
      },
      "outputs": [
        {
          "data": {
            "text/plain": [
              "1200"
            ]
          },
          "execution_count": 5,
          "metadata": {},
          "output_type": "execute_result"
        }
      ],
      "source": [
        "20 * 60"
      ]
    },
    {
      "cell_type": "code",
      "execution_count": null,
      "id": "9cda523a-c26b-4c02-aee1-715e8ee61242",
      "metadata": {
        "id": "9cda523a-c26b-4c02-aee1-715e8ee61242",
        "outputId": "fca3c88f-34aa-43ab-8194-dfe334f2de49"
      },
      "outputs": [
        {
          "data": {
            "text/plain": [
              "0         2192.857920\n",
              "1         2804.197280\n",
              "2         2083.902547\n",
              "3         2053.554350\n",
              "4         3570.478432\n",
              "             ...     \n",
              "999995    2103.775181\n",
              "999996    2871.657017\n",
              "999997    2465.568693\n",
              "999998    1409.485988\n",
              "999999    1982.756627\n",
              "Length: 1000000, dtype: float64"
            ]
          },
          "execution_count": 6,
          "metadata": {},
          "output_type": "execute_result"
        }
      ],
      "source": [
        "#  I need to filter down the instances with values no larger than 300\n",
        "#    First I transform my numpy.array object to a pandas.Series object\n",
        "X = pd.Series( X )\n",
        "\n",
        "X"
      ]
    },
    {
      "cell_type": "code",
      "execution_count": null,
      "id": "235d629f-6573-49eb-8dcd-edc9910aa485",
      "metadata": {
        "id": "235d629f-6573-49eb-8dcd-edc9910aa485",
        "outputId": "8f97a6fe-54f0-4902-996a-7982f8ff9ae9"
      },
      "outputs": [
        {
          "data": {
            "text/plain": [
              "65        1123.791871\n",
              "189       1059.201334\n",
              "334       1142.964024\n",
              "350       1108.347257\n",
              "505       1154.622797\n",
              "             ...     \n",
              "999596    1042.647210\n",
              "999763    1166.054519\n",
              "999803    1166.119742\n",
              "999811    1178.280175\n",
              "999817    1198.204343\n",
              "Length: 11383, dtype: float64"
            ]
          },
          "execution_count": 7,
          "metadata": {},
          "output_type": "execute_result"
        }
      ],
      "source": [
        "#    I filter down the instances with values no larger than 1200\n",
        "X[ X <= 1200 ]"
      ]
    },
    {
      "cell_type": "code",
      "execution_count": null,
      "id": "5ff15e69-5162-4152-b99d-0e3086b23d28",
      "metadata": {
        "id": "5ff15e69-5162-4152-b99d-0e3086b23d28",
        "outputId": "2259aaec-9c7e-455e-d182-8bc0667d00af"
      },
      "outputs": [
        {
          "data": {
            "text/plain": [
              "0.011383"
            ]
          },
          "execution_count": 8,
          "metadata": {},
          "output_type": "execute_result"
        }
      ],
      "source": [
        "#    Now I compute the probability\n",
        "( len(X[ X <= 1200 ]) ) / ( len(X) )"
      ]
    },
    {
      "cell_type": "markdown",
      "id": "c26909ab-9b77-481b-9993-4a2f4625c140",
      "metadata": {
        "id": "c26909ab-9b77-481b-9993-4a2f4625c140"
      },
      "source": [
        "#  Weibull Distibution"
      ]
    },
    {
      "cell_type": "markdown",
      "id": "ad79fc1c-f334-441d-be63-fdee7abf4f00",
      "metadata": {
        "id": "ad79fc1c-f334-441d-be63-fdee7abf4f00"
      },
      "source": [
        "np.random.weibull() has two arguments:\n",
        "* a\n",
        "* size\n",
        "\n",
        "a is non-negative number that indicates how time affects the likelihood of failure.\n",
        "- if a < 1, then as time passes, its less and less likely to see failure\n",
        "- if a = 1, then the failure is time-invariant\n",
        "- if a > 1, then as time passes, its more and more likely to see failure\n",
        "\n",
        "size is the number of random numbers you generate"
      ]
    },
    {
      "cell_type": "markdown",
      "id": "9822d0a5-a26c-4a08-8506-40d3ff6aa652",
      "metadata": {
        "id": "9822d0a5-a26c-4a08-8506-40d3ff6aa652"
      },
      "source": [
        "A weibull is distribution is the number of units that break down in a given time period. Weibull distribution is generally used for reliability problems."
      ]
    },
    {
      "cell_type": "markdown",
      "id": "27047b88-7483-4a72-bcef-c96ccdbc5561",
      "metadata": {
        "id": "27047b88-7483-4a72-bcef-c96ccdbc5561"
      },
      "source": [
        "## Weibull problem\n",
        "\n",
        "I have 10ooo light bulbs in the congressium center. What is the time required to see all those bulbs changed?\n",
        "\n",
        "The lights are more likely to fail as time passes. Take a as 1.15.\n",
        "\n",
        "It is expected see a light bulb to last 1000 hours."
      ]
    },
    {
      "cell_type": "code",
      "execution_count": null,
      "id": "4f2ceeda-65b0-421c-a82e-bc470b3e8f0d",
      "metadata": {
        "id": "4f2ceeda-65b0-421c-a82e-bc470b3e8f0d",
        "outputId": "e8f2a24e-078e-4af9-f05f-5f97b57c3b4a"
      },
      "outputs": [
        {
          "data": {
            "text/plain": [
              "array([0.23494096, 3.02801063, 1.50499237, 0.86441675, 0.4364179 ,\n",
              "       0.2978756 , 0.36579709, 1.35142625, 0.03812407, 0.57926435])"
            ]
          },
          "execution_count": 23,
          "metadata": {},
          "output_type": "execute_result"
        }
      ],
      "source": [
        "np.random.weibull(\n",
        "a = 1.15,\n",
        "size = 10\n",
        ")"
      ]
    },
    {
      "cell_type": "markdown",
      "id": "2b0f7774-39fb-48ef-9b3a-6c7fe6baf87c",
      "metadata": {
        "id": "2b0f7774-39fb-48ef-9b3a-6c7fe6baf87c"
      },
      "source": [
        "np.random.weibull() gives you time coefficient for life time of your system"
      ]
    },
    {
      "cell_type": "code",
      "execution_count": null,
      "id": "1e278cf6-02cd-4efe-85d4-cef9b156347f",
      "metadata": {
        "id": "1e278cf6-02cd-4efe-85d4-cef9b156347f",
        "outputId": "6d0db5d5-7e09-40b3-c875-fec31f505ac5"
      },
      "outputs": [
        {
          "data": {
            "text/plain": [
              "array([[ 143.32156634,  270.83231307, 1042.88385171, ...,  322.36902444,\n",
              "         301.20500165,  492.47670664],\n",
              "       [2216.33132003,  398.77474989,  333.91133639, ..., 2191.74851794,\n",
              "         522.25972513, 1627.24339238],\n",
              "       [ 424.6156314 ,  242.4926454 , 1040.49665116, ..., 1543.73313725,\n",
              "        1274.13733739, 1655.54056331],\n",
              "       ...,\n",
              "       [ 549.98046194,   49.30210498, 1232.3222022 , ..., 1476.58246565,\n",
              "        1134.38456987, 1105.97895849],\n",
              "       [ 723.29492933,  705.89291681, 1603.79349919, ..., 1319.58990035,\n",
              "         410.64303026, 2446.19090219],\n",
              "       [ 672.17059917,  875.8536439 , 1532.32295901, ..., 1172.55934334,\n",
              "        2134.39016245, 1183.06327879]])"
            ]
          },
          "execution_count": 9,
          "metadata": {},
          "output_type": "execute_result"
        }
      ],
      "source": [
        "#  Lets create a random variable with large number of instances\n",
        "X = 1000 * np.random.weibull(\n",
        "                            a = 1.15,\n",
        "                            size = (10000, 10**3)\n",
        "                            )\n",
        "\n",
        "X"
      ]
    },
    {
      "cell_type": "code",
      "execution_count": null,
      "id": "812bf61c-4e20-4ac7-87cc-5f7b538a349f",
      "metadata": {
        "id": "812bf61c-4e20-4ac7-87cc-5f7b538a349f",
        "outputId": "5964d771-6c59-468e-a68e-a638b8861968"
      },
      "outputs": [
        {
          "data": {
            "text/html": [
              "<div>\n",
              "<style scoped>\n",
              "    .dataframe tbody tr th:only-of-type {\n",
              "        vertical-align: middle;\n",
              "    }\n",
              "\n",
              "    .dataframe tbody tr th {\n",
              "        vertical-align: top;\n",
              "    }\n",
              "\n",
              "    .dataframe thead th {\n",
              "        text-align: right;\n",
              "    }\n",
              "</style>\n",
              "<table border=\"1\" class=\"dataframe\">\n",
              "  <thead>\n",
              "    <tr style=\"text-align: right;\">\n",
              "      <th></th>\n",
              "      <th>0</th>\n",
              "      <th>1</th>\n",
              "      <th>2</th>\n",
              "      <th>3</th>\n",
              "      <th>4</th>\n",
              "      <th>5</th>\n",
              "      <th>6</th>\n",
              "      <th>7</th>\n",
              "      <th>8</th>\n",
              "      <th>9</th>\n",
              "      <th>...</th>\n",
              "      <th>9990</th>\n",
              "      <th>9991</th>\n",
              "      <th>9992</th>\n",
              "      <th>9993</th>\n",
              "      <th>9994</th>\n",
              "      <th>9995</th>\n",
              "      <th>9996</th>\n",
              "      <th>9997</th>\n",
              "      <th>9998</th>\n",
              "      <th>9999</th>\n",
              "    </tr>\n",
              "  </thead>\n",
              "  <tbody>\n",
              "    <tr>\n",
              "      <th>0</th>\n",
              "      <td>143.321566</td>\n",
              "      <td>2216.331320</td>\n",
              "      <td>424.615631</td>\n",
              "      <td>286.225520</td>\n",
              "      <td>993.562070</td>\n",
              "      <td>144.975646</td>\n",
              "      <td>218.241463</td>\n",
              "      <td>776.782007</td>\n",
              "      <td>60.958548</td>\n",
              "      <td>1242.835457</td>\n",
              "      <td>...</td>\n",
              "      <td>1106.942890</td>\n",
              "      <td>645.820730</td>\n",
              "      <td>1093.465012</td>\n",
              "      <td>2464.536326</td>\n",
              "      <td>1105.886588</td>\n",
              "      <td>1068.074056</td>\n",
              "      <td>2849.528964</td>\n",
              "      <td>549.980462</td>\n",
              "      <td>723.294929</td>\n",
              "      <td>672.170599</td>\n",
              "    </tr>\n",
              "    <tr>\n",
              "      <th>1</th>\n",
              "      <td>270.832313</td>\n",
              "      <td>398.774750</td>\n",
              "      <td>242.492645</td>\n",
              "      <td>156.911261</td>\n",
              "      <td>1153.693634</td>\n",
              "      <td>3049.128343</td>\n",
              "      <td>602.034188</td>\n",
              "      <td>1742.458807</td>\n",
              "      <td>215.924394</td>\n",
              "      <td>334.919500</td>\n",
              "      <td>...</td>\n",
              "      <td>1215.147800</td>\n",
              "      <td>1045.422287</td>\n",
              "      <td>2286.044436</td>\n",
              "      <td>338.323097</td>\n",
              "      <td>472.202348</td>\n",
              "      <td>1134.125630</td>\n",
              "      <td>1367.993062</td>\n",
              "      <td>49.302105</td>\n",
              "      <td>705.892917</td>\n",
              "      <td>875.853644</td>\n",
              "    </tr>\n",
              "    <tr>\n",
              "      <th>2</th>\n",
              "      <td>1042.883852</td>\n",
              "      <td>333.911336</td>\n",
              "      <td>1040.496651</td>\n",
              "      <td>185.475592</td>\n",
              "      <td>487.961137</td>\n",
              "      <td>962.084995</td>\n",
              "      <td>112.568252</td>\n",
              "      <td>133.108975</td>\n",
              "      <td>1362.290354</td>\n",
              "      <td>1209.404355</td>\n",
              "      <td>...</td>\n",
              "      <td>2071.032905</td>\n",
              "      <td>2094.267174</td>\n",
              "      <td>561.922469</td>\n",
              "      <td>2045.342113</td>\n",
              "      <td>1011.484814</td>\n",
              "      <td>59.367559</td>\n",
              "      <td>1689.122532</td>\n",
              "      <td>1232.322202</td>\n",
              "      <td>1603.793499</td>\n",
              "      <td>1532.322959</td>\n",
              "    </tr>\n",
              "    <tr>\n",
              "      <th>3</th>\n",
              "      <td>688.333053</td>\n",
              "      <td>718.086049</td>\n",
              "      <td>633.399743</td>\n",
              "      <td>952.732490</td>\n",
              "      <td>2281.153598</td>\n",
              "      <td>1727.394895</td>\n",
              "      <td>533.482549</td>\n",
              "      <td>1784.535747</td>\n",
              "      <td>172.998284</td>\n",
              "      <td>1077.885300</td>\n",
              "      <td>...</td>\n",
              "      <td>255.658917</td>\n",
              "      <td>435.951085</td>\n",
              "      <td>676.792476</td>\n",
              "      <td>898.284115</td>\n",
              "      <td>488.504556</td>\n",
              "      <td>3245.587020</td>\n",
              "      <td>2940.337126</td>\n",
              "      <td>1678.207490</td>\n",
              "      <td>476.419737</td>\n",
              "      <td>707.282789</td>\n",
              "    </tr>\n",
              "    <tr>\n",
              "      <th>4</th>\n",
              "      <td>114.493845</td>\n",
              "      <td>233.128144</td>\n",
              "      <td>2301.805651</td>\n",
              "      <td>93.884531</td>\n",
              "      <td>32.004084</td>\n",
              "      <td>1582.357284</td>\n",
              "      <td>1572.478472</td>\n",
              "      <td>2674.894934</td>\n",
              "      <td>3173.124806</td>\n",
              "      <td>78.408263</td>\n",
              "      <td>...</td>\n",
              "      <td>233.211960</td>\n",
              "      <td>1842.579648</td>\n",
              "      <td>453.319078</td>\n",
              "      <td>1170.323471</td>\n",
              "      <td>2343.616013</td>\n",
              "      <td>447.729826</td>\n",
              "      <td>1528.931166</td>\n",
              "      <td>571.340778</td>\n",
              "      <td>1866.667277</td>\n",
              "      <td>767.300043</td>\n",
              "    </tr>\n",
              "    <tr>\n",
              "      <th>...</th>\n",
              "      <td>...</td>\n",
              "      <td>...</td>\n",
              "      <td>...</td>\n",
              "      <td>...</td>\n",
              "      <td>...</td>\n",
              "      <td>...</td>\n",
              "      <td>...</td>\n",
              "      <td>...</td>\n",
              "      <td>...</td>\n",
              "      <td>...</td>\n",
              "      <td>...</td>\n",
              "      <td>...</td>\n",
              "      <td>...</td>\n",
              "      <td>...</td>\n",
              "      <td>...</td>\n",
              "      <td>...</td>\n",
              "      <td>...</td>\n",
              "      <td>...</td>\n",
              "      <td>...</td>\n",
              "      <td>...</td>\n",
              "      <td>...</td>\n",
              "    </tr>\n",
              "    <tr>\n",
              "      <th>995</th>\n",
              "      <td>1375.510321</td>\n",
              "      <td>1555.539748</td>\n",
              "      <td>929.321820</td>\n",
              "      <td>1038.824774</td>\n",
              "      <td>927.713439</td>\n",
              "      <td>264.485137</td>\n",
              "      <td>798.819164</td>\n",
              "      <td>2745.896040</td>\n",
              "      <td>3251.437152</td>\n",
              "      <td>1685.429674</td>\n",
              "      <td>...</td>\n",
              "      <td>2736.310945</td>\n",
              "      <td>2812.987020</td>\n",
              "      <td>2339.303532</td>\n",
              "      <td>1970.947934</td>\n",
              "      <td>1530.186509</td>\n",
              "      <td>44.553841</td>\n",
              "      <td>1558.248872</td>\n",
              "      <td>294.127276</td>\n",
              "      <td>616.512653</td>\n",
              "      <td>1092.467376</td>\n",
              "    </tr>\n",
              "    <tr>\n",
              "      <th>996</th>\n",
              "      <td>876.604606</td>\n",
              "      <td>1106.555940</td>\n",
              "      <td>202.196057</td>\n",
              "      <td>298.644995</td>\n",
              "      <td>843.800589</td>\n",
              "      <td>704.925927</td>\n",
              "      <td>841.001302</td>\n",
              "      <td>743.056592</td>\n",
              "      <td>1000.671667</td>\n",
              "      <td>1182.160382</td>\n",
              "      <td>...</td>\n",
              "      <td>165.625403</td>\n",
              "      <td>1035.639825</td>\n",
              "      <td>841.931499</td>\n",
              "      <td>794.227065</td>\n",
              "      <td>104.371734</td>\n",
              "      <td>138.044389</td>\n",
              "      <td>2957.311587</td>\n",
              "      <td>537.054237</td>\n",
              "      <td>1381.834931</td>\n",
              "      <td>160.765304</td>\n",
              "    </tr>\n",
              "    <tr>\n",
              "      <th>997</th>\n",
              "      <td>322.369024</td>\n",
              "      <td>2191.748518</td>\n",
              "      <td>1543.733137</td>\n",
              "      <td>99.539197</td>\n",
              "      <td>93.089196</td>\n",
              "      <td>120.861058</td>\n",
              "      <td>281.732275</td>\n",
              "      <td>529.350674</td>\n",
              "      <td>966.827970</td>\n",
              "      <td>225.852977</td>\n",
              "      <td>...</td>\n",
              "      <td>94.328904</td>\n",
              "      <td>925.462311</td>\n",
              "      <td>326.401177</td>\n",
              "      <td>67.197257</td>\n",
              "      <td>780.095818</td>\n",
              "      <td>260.074245</td>\n",
              "      <td>250.777048</td>\n",
              "      <td>1476.582466</td>\n",
              "      <td>1319.589900</td>\n",
              "      <td>1172.559343</td>\n",
              "    </tr>\n",
              "    <tr>\n",
              "      <th>998</th>\n",
              "      <td>301.205002</td>\n",
              "      <td>522.259725</td>\n",
              "      <td>1274.137337</td>\n",
              "      <td>371.241386</td>\n",
              "      <td>1725.001112</td>\n",
              "      <td>366.045701</td>\n",
              "      <td>339.354877</td>\n",
              "      <td>1545.612144</td>\n",
              "      <td>1530.964789</td>\n",
              "      <td>364.140432</td>\n",
              "      <td>...</td>\n",
              "      <td>605.543736</td>\n",
              "      <td>521.943429</td>\n",
              "      <td>830.773072</td>\n",
              "      <td>77.144663</td>\n",
              "      <td>1851.949822</td>\n",
              "      <td>1159.030947</td>\n",
              "      <td>1805.809020</td>\n",
              "      <td>1134.384570</td>\n",
              "      <td>410.643030</td>\n",
              "      <td>2134.390162</td>\n",
              "    </tr>\n",
              "    <tr>\n",
              "      <th>999</th>\n",
              "      <td>492.476707</td>\n",
              "      <td>1627.243392</td>\n",
              "      <td>1655.540563</td>\n",
              "      <td>399.660144</td>\n",
              "      <td>1080.259486</td>\n",
              "      <td>2280.045994</td>\n",
              "      <td>649.169568</td>\n",
              "      <td>155.556030</td>\n",
              "      <td>211.474920</td>\n",
              "      <td>78.625879</td>\n",
              "      <td>...</td>\n",
              "      <td>581.352264</td>\n",
              "      <td>307.322983</td>\n",
              "      <td>1245.339463</td>\n",
              "      <td>361.340069</td>\n",
              "      <td>1299.041784</td>\n",
              "      <td>2104.041331</td>\n",
              "      <td>1139.006278</td>\n",
              "      <td>1105.978958</td>\n",
              "      <td>2446.190902</td>\n",
              "      <td>1183.063279</td>\n",
              "    </tr>\n",
              "  </tbody>\n",
              "</table>\n",
              "<p>1000 rows × 10000 columns</p>\n",
              "</div>"
            ],
            "text/plain": [
              "            0            1            2            3            4     \\\n",
              "0     143.321566  2216.331320   424.615631   286.225520   993.562070   \n",
              "1     270.832313   398.774750   242.492645   156.911261  1153.693634   \n",
              "2    1042.883852   333.911336  1040.496651   185.475592   487.961137   \n",
              "3     688.333053   718.086049   633.399743   952.732490  2281.153598   \n",
              "4     114.493845   233.128144  2301.805651    93.884531    32.004084   \n",
              "..           ...          ...          ...          ...          ...   \n",
              "995  1375.510321  1555.539748   929.321820  1038.824774   927.713439   \n",
              "996   876.604606  1106.555940   202.196057   298.644995   843.800589   \n",
              "997   322.369024  2191.748518  1543.733137    99.539197    93.089196   \n",
              "998   301.205002   522.259725  1274.137337   371.241386  1725.001112   \n",
              "999   492.476707  1627.243392  1655.540563   399.660144  1080.259486   \n",
              "\n",
              "            5            6            7            8            9     ...  \\\n",
              "0     144.975646   218.241463   776.782007    60.958548  1242.835457  ...   \n",
              "1    3049.128343   602.034188  1742.458807   215.924394   334.919500  ...   \n",
              "2     962.084995   112.568252   133.108975  1362.290354  1209.404355  ...   \n",
              "3    1727.394895   533.482549  1784.535747   172.998284  1077.885300  ...   \n",
              "4    1582.357284  1572.478472  2674.894934  3173.124806    78.408263  ...   \n",
              "..           ...          ...          ...          ...          ...  ...   \n",
              "995   264.485137   798.819164  2745.896040  3251.437152  1685.429674  ...   \n",
              "996   704.925927   841.001302   743.056592  1000.671667  1182.160382  ...   \n",
              "997   120.861058   281.732275   529.350674   966.827970   225.852977  ...   \n",
              "998   366.045701   339.354877  1545.612144  1530.964789   364.140432  ...   \n",
              "999  2280.045994   649.169568   155.556030   211.474920    78.625879  ...   \n",
              "\n",
              "            9990         9991         9992         9993         9994  \\\n",
              "0    1106.942890   645.820730  1093.465012  2464.536326  1105.886588   \n",
              "1    1215.147800  1045.422287  2286.044436   338.323097   472.202348   \n",
              "2    2071.032905  2094.267174   561.922469  2045.342113  1011.484814   \n",
              "3     255.658917   435.951085   676.792476   898.284115   488.504556   \n",
              "4     233.211960  1842.579648   453.319078  1170.323471  2343.616013   \n",
              "..           ...          ...          ...          ...          ...   \n",
              "995  2736.310945  2812.987020  2339.303532  1970.947934  1530.186509   \n",
              "996   165.625403  1035.639825   841.931499   794.227065   104.371734   \n",
              "997    94.328904   925.462311   326.401177    67.197257   780.095818   \n",
              "998   605.543736   521.943429   830.773072    77.144663  1851.949822   \n",
              "999   581.352264   307.322983  1245.339463   361.340069  1299.041784   \n",
              "\n",
              "            9995         9996         9997         9998         9999  \n",
              "0    1068.074056  2849.528964   549.980462   723.294929   672.170599  \n",
              "1    1134.125630  1367.993062    49.302105   705.892917   875.853644  \n",
              "2      59.367559  1689.122532  1232.322202  1603.793499  1532.322959  \n",
              "3    3245.587020  2940.337126  1678.207490   476.419737   707.282789  \n",
              "4     447.729826  1528.931166   571.340778  1866.667277   767.300043  \n",
              "..           ...          ...          ...          ...          ...  \n",
              "995    44.553841  1558.248872   294.127276   616.512653  1092.467376  \n",
              "996   138.044389  2957.311587   537.054237  1381.834931   160.765304  \n",
              "997   260.074245   250.777048  1476.582466  1319.589900  1172.559343  \n",
              "998  1159.030947  1805.809020  1134.384570   410.643030  2134.390162  \n",
              "999  2104.041331  1139.006278  1105.978958  2446.190902  1183.063279  \n",
              "\n",
              "[1000 rows x 10000 columns]"
            ]
          },
          "execution_count": 14,
          "metadata": {},
          "output_type": "execute_result"
        }
      ],
      "source": [
        "#  Lets see the mean values\n",
        "#    Transform X into a pandas Series\n",
        "X = pd.DataFrame( X.T )\n",
        "X"
      ]
    },
    {
      "cell_type": "code",
      "execution_count": null,
      "id": "1d084acc-f44f-4924-b567-2280d9d17612",
      "metadata": {
        "id": "1d084acc-f44f-4924-b567-2280d9d17612"
      },
      "outputs": [],
      "source": []
    },
    {
      "cell_type": "code",
      "execution_count": null,
      "id": "3d2fce88-a354-4a42-b60a-f9bcd25e93b3",
      "metadata": {
        "id": "3d2fce88-a354-4a42-b60a-f9bcd25e93b3"
      },
      "outputs": [],
      "source": []
    },
    {
      "cell_type": "markdown",
      "id": "5fa81100-99a3-4aad-b5ef-43337e242430",
      "metadata": {
        "id": "5fa81100-99a3-4aad-b5ef-43337e242430"
      },
      "source": [
        "Before transposing X (pd.DataFrame( X )) we had a table for which the rows represented for each light bulb (one of 10000), and columns represented for each random instance out of 1000.\n",
        "\n",
        "For this version X.mean() computed the mean value for each random instance rather than for each lightbulb.\n",
        "\n",
        "This is why we transposed (rotated) our data ( pd.DataFrame( X.T ) ).\n",
        "                                                                                                                                               "
      ]
    },
    {
      "cell_type": "code",
      "execution_count": null,
      "id": "fc167c55-c0b6-46a1-85bf-36859de3252f",
      "metadata": {
        "id": "fc167c55-c0b6-46a1-85bf-36859de3252f",
        "outputId": "8fcd270c-84d5-400a-d6f3-3c450bfb030d"
      },
      "outputs": [
        {
          "data": {
            "text/plain": [
              "0       1003.615351\n",
              "1        940.142952\n",
              "2        913.741757\n",
              "3        993.950953\n",
              "4        951.255936\n",
              "           ...     \n",
              "9995     945.967979\n",
              "9996     928.146645\n",
              "9997    1002.787886\n",
              "9998     957.330607\n",
              "9999     951.458895\n",
              "Length: 10000, dtype: float64"
            ]
          },
          "execution_count": 17,
          "metadata": {},
          "output_type": "execute_result"
        }
      ],
      "source": [
        "X.mean()"
      ]
    },
    {
      "cell_type": "markdown",
      "id": "31ed73ca-e0ab-409d-a6a4-fd82abdfd6de",
      "metadata": {
        "id": "31ed73ca-e0ab-409d-a6a4-fd82abdfd6de"
      },
      "source": [
        "For this list of expected lifetime of bulbs, we are asked for the time to change all the lightbulbs. So, now we need the max value here.\n",
        "\n",
        "The max of means, will give us the very last one of the original 10ooo lightbulbs that is finally broken."
      ]
    },
    {
      "cell_type": "code",
      "execution_count": null,
      "id": "f4c6fc0b-0b12-4713-9b2f-15795f0f5c59",
      "metadata": {
        "id": "f4c6fc0b-0b12-4713-9b2f-15795f0f5c59",
        "outputId": "9fcb3835-a165-4ed8-bc3f-ea3c594b70af"
      },
      "outputs": [
        {
          "data": {
            "text/plain": [
              "np.float64(1041.9156295937087)"
            ]
          },
          "execution_count": 19,
          "metadata": {},
          "output_type": "execute_result"
        }
      ],
      "source": [
        "X.mean().max()"
      ]
    },
    {
      "cell_type": "code",
      "execution_count": null,
      "id": "19c6f78f-02e7-4d99-87cd-7248768cae91",
      "metadata": {
        "id": "19c6f78f-02e7-4d99-87cd-7248768cae91"
      },
      "outputs": [],
      "source": []
    },
    {
      "cell_type": "markdown",
      "id": "b35a51ed-85a5-45f5-9b86-65dc72cac073",
      "metadata": {
        "id": "b35a51ed-85a5-45f5-9b86-65dc72cac073"
      },
      "source": [
        "So, when do I need to change the first lightbulb? What is the probability that changing all the bulbs after 900 hours would be okay?"
      ]
    },
    {
      "cell_type": "code",
      "execution_count": null,
      "id": "609e32e9-8543-4775-8db0-4d180248c98f",
      "metadata": {
        "id": "609e32e9-8543-4775-8db0-4d180248c98f",
        "outputId": "806ad243-987d-40f8-bbdc-4764ee5824c3"
      },
      "outputs": [
        {
          "data": {
            "text/plain": [
              "np.float64(866.1852886062591)"
            ]
          },
          "execution_count": 21,
          "metadata": {},
          "output_type": "execute_result"
        }
      ],
      "source": [
        "X.mean().min()"
      ]
    },
    {
      "cell_type": "code",
      "execution_count": null,
      "id": "81b85130-de81-4fbd-8ff0-15a2f2a1d264",
      "metadata": {
        "id": "81b85130-de81-4fbd-8ff0-15a2f2a1d264",
        "outputId": "a02e64c2-cd30-4377-de76-66ff22cf3514"
      },
      "outputs": [
        {
          "data": {
            "text/plain": [
              "0       1003.615351\n",
              "1        940.142952\n",
              "2        913.741757\n",
              "3        993.950953\n",
              "4        951.255936\n",
              "           ...     \n",
              "9995     945.967979\n",
              "9996     928.146645\n",
              "9997    1002.787886\n",
              "9998     957.330607\n",
              "9999     951.458895\n",
              "Length: 9777, dtype: float64"
            ]
          },
          "execution_count": 22,
          "metadata": {},
          "output_type": "execute_result"
        }
      ],
      "source": [
        "X.mean() [ X.mean() > 900 ]"
      ]
    },
    {
      "cell_type": "code",
      "execution_count": null,
      "id": "b6a90326-d5c6-49e6-baf7-e738101036c7",
      "metadata": {
        "id": "b6a90326-d5c6-49e6-baf7-e738101036c7",
        "outputId": "6ba04d7b-23a1-4507-a74e-c2ae7c5dfadc"
      },
      "outputs": [
        {
          "data": {
            "text/plain": [
              "0.9777"
            ]
          },
          "execution_count": 23,
          "metadata": {},
          "output_type": "execute_result"
        }
      ],
      "source": [
        "len( X.mean()[ X.mean() > 900 ] ) / len( X.mean() )"
      ]
    },
    {
      "cell_type": "code",
      "execution_count": null,
      "id": "e1f57145-85cc-4382-b4c5-4fa004be9814",
      "metadata": {
        "id": "e1f57145-85cc-4382-b4c5-4fa004be9814"
      },
      "outputs": [],
      "source": []
    },
    {
      "cell_type": "markdown",
      "id": "176b9c29-5635-4db2-9600-9b561875658e",
      "metadata": {
        "id": "176b9c29-5635-4db2-9600-9b561875658e"
      },
      "source": [
        "Hint: do not immediately use the mean values.\n",
        "\n",
        "For the Weibull distributed lightbulbs question. What is the probability that no lights go out in 800 hours?"
      ]
    },
    {
      "cell_type": "code",
      "execution_count": null,
      "id": "ababa9f7-a915-4511-8ed8-69a2be893712",
      "metadata": {
        "id": "ababa9f7-a915-4511-8ed8-69a2be893712"
      },
      "outputs": [],
      "source": []
    }
  ],
  "metadata": {
    "kernelspec": {
      "display_name": "Python 3 (ipykernel)",
      "language": "python",
      "name": "python3"
    },
    "language_info": {
      "codemirror_mode": {
        "name": "ipython",
        "version": 3
      },
      "file_extension": ".py",
      "mimetype": "text/x-python",
      "name": "python",
      "nbconvert_exporter": "python",
      "pygments_lexer": "ipython3",
      "version": "3.9.21"
    },
    "colab": {
      "provenance": [],
      "include_colab_link": true
    }
  },
  "nbformat": 4,
  "nbformat_minor": 5
}