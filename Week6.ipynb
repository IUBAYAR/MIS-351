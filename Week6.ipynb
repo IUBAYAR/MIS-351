{
  "nbformat": 4,
  "nbformat_minor": 0,
  "metadata": {
    "colab": {
      "provenance": [],
      "authorship_tag": "ABX9TyOPBMlzHwT6BRTGuE9dRXUL",
      "include_colab_link": true
    },
    "kernelspec": {
      "name": "python3",
      "display_name": "Python 3"
    },
    "language_info": {
      "name": "python"
    }
  },
  "cells": [
    {
      "cell_type": "markdown",
      "metadata": {
        "id": "view-in-github",
        "colab_type": "text"
      },
      "source": [
        "<a href=\"https://colab.research.google.com/github/IUBAYAR/MIS-351/blob/main/Week6.ipynb\" target=\"_parent\"><img src=\"https://colab.research.google.com/assets/colab-badge.svg\" alt=\"Open In Colab\"/></a>"
      ]
    },
    {
      "cell_type": "code",
      "execution_count": 1,
      "metadata": {
        "id": "bepbXBvgoExz"
      },
      "outputs": [],
      "source": [
        "import numpy as np\n",
        "import pandas as pd"
      ]
    },
    {
      "cell_type": "markdown",
      "source": [
        "Q1: Jack owns a pair of biased dice. The probability of getting a number on this dice is proportional to the number itself. Jack runs a bet company and who collects all the sums from 2 to 12 before 20/50/100 rolls win.\n",
        "\n",
        "What is the probability that Jack wins instead of a customer?"
      ],
      "metadata": {
        "id": "GlhDQAzvowQQ"
      }
    },
    {
      "cell_type": "code",
      "source": [
        "liste = []\n",
        "for i in range(10**3):\n",
        "  collection = []\n",
        "  counter = 0\n",
        "  while len(set(collection)) < 11:\n",
        "    counter += 1\n",
        "    collection.append(np.random.choice(\n",
        "                                        [1,2,3,4,5,6],\n",
        "                                        p = [1/21, 2/21, 3/21, 4/21, 5/21, 6/21],\n",
        "                                        size = 2\n",
        "                                      ).sum())\n",
        "    counter\n",
        "    if counter >= 100:\n",
        "      liste.append(1)\n",
        "    else:\n",
        "      liste.append(0)\n",
        "\n",
        "np.array(liste).mean()"
      ],
      "metadata": {
        "colab": {
          "base_uri": "https://localhost:8080/"
        },
        "id": "D-iQUggeoxDe",
        "outputId": "aecc8b1e-2f98-4825-de87-9444d676653b"
      },
      "execution_count": 6,
      "outputs": [
        {
          "output_type": "execute_result",
          "data": {
            "text/plain": [
              "0.7937879160737404"
            ]
          },
          "metadata": {},
          "execution_count": 6
        }
      ]
    },
    {
      "cell_type": "markdown",
      "source": [
        "Q2:\n",
        "In a statistics marathon, a game of coins as such is defined:\\\n",
        "\\\n",
        "In order to win; \\\n",
        "* The first coin must be HEADS,\n",
        "* Then until a series of \"TAILS, TAILS, TAILS, HEADS\" is obtained the tosses continue.\n",
        "\n",
        "If this conditions is satisfied before 20 tosses, the player wins.\\\n",
        "What is the probability of winning?"
      ],
      "metadata": {
        "id": "r-bJXK47vB31"
      }
    },
    {
      "cell_type": "code",
      "source": [
        "#Simulating the game\n",
        "liste = []\n",
        "\n",
        "for i in range(10**3):\n",
        "  #Tossing a coin is our random variable:\n",
        "  x = np.random.choice(\n",
        "                      ['H', 'T',],\n",
        "                      p = [.5, .5,],\n",
        "                      size = 19\n",
        "                      )\n",
        "  #tranforming all 99 tosses into a string\n",
        "  tosses = ''\n",
        "  for toss in x:\n",
        "    tosses += toss\n",
        "\n",
        "  #recording game results\n",
        "  if (tosses[0] == 'H') and ('TTTH' in tosses[1:]):\n",
        "    liste.append(1)\n",
        "  else:\n",
        "    liste.append(0)\n",
        "\n",
        "  #analyzing cumulated results:\n",
        "np.array(liste).mean()"
      ],
      "metadata": {
        "colab": {
          "base_uri": "https://localhost:8080/"
        },
        "id": "Bkal0TL_vDAW",
        "outputId": "63edb570-3cc3-4418-c6c9-a1fef8b84bb6"
      },
      "execution_count": 9,
      "outputs": [
        {
          "output_type": "execute_result",
          "data": {
            "text/plain": [
              "0.337"
            ]
          },
          "metadata": {},
          "execution_count": 9
        }
      ]
    },
    {
      "cell_type": "markdown",
      "source": [
        "Q3: For the same question, to win, given the first coin is HEADS, on average how many tosses are required?"
      ],
      "metadata": {
        "id": "2G5sPTpSzZfn"
      }
    },
    {
      "cell_type": "code",
      "source": [
        "liste = []\n",
        "\n",
        "for i in range(10**3):\n",
        "  tosses = ''\n",
        "  tosses += np.random.choice(\n",
        "                            ['H','T',],\n",
        "                            p = [.5, .5,],\n",
        "                            )\n",
        "  counter = 1\n",
        "\n",
        "  if tosses[0] != 'H':\n",
        "      continue\n",
        "  else:\n",
        "    while not ( (tosses[0] == 'H') and ('TTTH' in tosses[1:]) ):\n",
        "      counter += 1\n",
        "\n",
        "      tosses += np.random.choice(\n",
        "                                ['H','T',],\n",
        "                                p = [.5, .5,],\n",
        "                                )\n",
        "\n",
        "  liste.append(len(tosses))\n",
        "pd.Series(liste).mean()"
      ],
      "metadata": {
        "colab": {
          "base_uri": "https://localhost:8080/"
        },
        "id": "WX4yLbSfzcDe",
        "outputId": "77b19b72-793c-4109-a08f-d1612656fb86"
      },
      "execution_count": 10,
      "outputs": [
        {
          "output_type": "execute_result",
          "data": {
            "text/plain": [
              "17.013833992094863"
            ]
          },
          "metadata": {},
          "execution_count": 10
        }
      ]
    },
    {
      "cell_type": "markdown",
      "source": [
        "Q4:\n",
        "Given the coin is not fair but\\\n",
        "the probability of getting TAILS is 4 times likely as getting HEADS\\\n",
        "What is the probability of winning in 100 tosses?"
      ],
      "metadata": {
        "id": "EZ-eiQqP5JzY"
      }
    },
    {
      "cell_type": "code",
      "source": [
        "#simulating the game\n",
        "liste = []\n",
        "\n",
        "for i in range (10**3):\n",
        "  #tossing a coin is our random variable\n",
        "  x = np.random.choice(\n",
        "                      ['H', 'T',],\n",
        "                      p = [.2, .8,],\n",
        "                      size = 100\n",
        "  )\n",
        "\n",
        "  #transforming all 99 tosses into a string\n",
        "  tosses = ''\n",
        "  for toss in x:\n",
        "    tosses += toss\n",
        "\n",
        "  #recording game results\n",
        "  if (tosses[0] == 'H') and ('TTTH' in tosses[1:]):\n",
        "    liste.append(1)\n",
        "  else:\n",
        "    liste.append(0)\n",
        "\n",
        "#analyzing cumulated results:\n",
        "np.array(liste).mean()"
      ],
      "metadata": {
        "colab": {
          "base_uri": "https://localhost:8080/"
        },
        "id": "ZWMY2I8P5K_v",
        "outputId": "10306714-5b1d-4de3-911f-2ad1eb2b7649"
      },
      "execution_count": 12,
      "outputs": [
        {
          "output_type": "execute_result",
          "data": {
            "text/plain": [
              "0.191"
            ]
          },
          "metadata": {},
          "execution_count": 12
        }
      ]
    },
    {
      "cell_type": "markdown",
      "source": [
        "Q5:\n",
        "Samuel Pepys wrote Sir Isaac Newton to ask which of the three events is more likely?\\\n",
        "That a person get\\\n",
        "* at least 1 six when 6 dice are rolled,\n",
        "* at least 2 sixes when 12 dice are rolled,\n",
        "* at least 3 sixes when 18 dice are rolled.\n",
        "\n",
        "\\\n",
        "Suppose you are assisting Isaac, how would you respond?"
      ],
      "metadata": {
        "id": "l21k5dHl8JlN"
      }
    },
    {
      "cell_type": "code",
      "source": [
        "#at least 1 six when 6 dice are rolled\n",
        "six = []\n",
        "for i in range(10**3):\n",
        "  x = np.random.choice(\n",
        "                        [1, 2, 3, 4, 5, 6],\n",
        "                        p = [1/6, 1/6, 1/6, 1/6, 1/6, 1/6],\n",
        "                        size = 6\n",
        "                      )\n",
        "  x = pd.Series(x)\n",
        "  six.append(len(x[x>=6]))\n",
        "\n",
        "six = pd.Series(six)\n",
        "len(six[six>=1]) / len(six)"
      ],
      "metadata": {
        "colab": {
          "base_uri": "https://localhost:8080/"
        },
        "id": "n7T-I5Y38LkM",
        "outputId": "adfdb9b5-58e0-42e6-bd4a-a9cd05ecdbe5"
      },
      "execution_count": 13,
      "outputs": [
        {
          "output_type": "execute_result",
          "data": {
            "text/plain": [
              "0.667"
            ]
          },
          "metadata": {},
          "execution_count": 13
        }
      ]
    },
    {
      "cell_type": "code",
      "source": [
        "#  at least 2 sixes when 12 dice are rolled\n",
        "twelve = []\n",
        "for i in range(10**3):\n",
        "  x = np.random.choice(\n",
        "                      [1,2,3,4,5,6],\n",
        "                      p = [1/6, 1/6, 1/6, 1/6, 1/6, 1/6],\n",
        "                      size = 12\n",
        "                      )\n",
        "  x = pd.Series(x)\n",
        "  twelve.append( len( x[ x >= 6 ] ) )\n",
        "\n",
        "twelve = pd.Series(six)\n",
        "len( twelve[ twelve >= 2 ] ) / len(twelve)"
      ],
      "metadata": {
        "colab": {
          "base_uri": "https://localhost:8080/"
        },
        "id": "6HJ9q-ly-tuq",
        "outputId": "a22c78d5-ee7e-4a51-b4dd-cda7615abbb7"
      },
      "execution_count": 14,
      "outputs": [
        {
          "output_type": "execute_result",
          "data": {
            "text/plain": [
              "0.257"
            ]
          },
          "metadata": {},
          "execution_count": 14
        }
      ]
    },
    {
      "cell_type": "code",
      "source": [
        "#  at least 3 sixes when 18 dice are rolled\n",
        "eightteen = []\n",
        "for i in range(10**3):\n",
        "  x = np.random.choice(\n",
        "                      [1,2,3,4,5,6],\n",
        "                      p = [1/6, 1/6, 1/6, 1/6, 1/6, 1/6],\n",
        "                      size = 18\n",
        "                      )\n",
        "  x = pd.Series(x)\n",
        "  eightteen.append( len( x[ x >= 6 ] ) )\n",
        "\n",
        "eightteen = pd.Series(six)\n",
        "len( eightteen[ eightteen >= 3 ] ) / len(eightteen)"
      ],
      "metadata": {
        "colab": {
          "base_uri": "https://localhost:8080/"
        },
        "id": "pYiWrEyh-3Pt",
        "outputId": "23b19e56-cb1f-401b-959e-6e395c2d2a1b"
      },
      "execution_count": 15,
      "outputs": [
        {
          "output_type": "execute_result",
          "data": {
            "text/plain": [
              "0.062"
            ]
          },
          "metadata": {},
          "execution_count": 15
        }
      ]
    },
    {
      "cell_type": "code",
      "source": [],
      "metadata": {
        "id": "_S0ATJU__kMb"
      },
      "execution_count": null,
      "outputs": []
    }
  ]
}