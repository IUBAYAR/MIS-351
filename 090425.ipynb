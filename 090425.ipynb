{
  "nbformat": 4,
  "nbformat_minor": 0,
  "metadata": {
    "colab": {
      "provenance": [],
      "authorship_tag": "ABX9TyPGo90wLtUGTfVXCuEEKfrS",
      "include_colab_link": true
    },
    "kernelspec": {
      "name": "python3",
      "display_name": "Python 3"
    },
    "language_info": {
      "name": "python"
    }
  },
  "cells": [
    {
      "cell_type": "markdown",
      "metadata": {
        "id": "view-in-github",
        "colab_type": "text"
      },
      "source": [
        "<a href=\"https://colab.research.google.com/github/IUBAYAR/MIS-351/blob/main/090425.ipynb\" target=\"_parent\"><img src=\"https://colab.research.google.com/assets/colab-badge.svg\" alt=\"Open In Colab\"/></a>"
      ]
    },
    {
      "cell_type": "markdown",
      "source": [
        "Q1a: For a flight with 300 seating capacity, an airway company sells tickets to 3 customer groups:\n",
        "*   Group A: extremely careful passengers (1% chance of missing a flight)\n",
        "*   Group B:  careful passengers (3% chance of missing a flight)\n",
        "*   Group C: rookie passengers (10% chance of missing a flight)\n",
        "\n",
        "\n",
        "The company does not know how many tickets are sold to each group of passengers and wants the optimize an overbooking strategy.\\\n",
        "\\\n",
        "If any passenger is not seated on a flight the company pays them a \\$10ooo fine per passenger. Where the company makes $500 per ticket sold.\n",
        "\\\n",
        "What is the expected value of 1-5 overbooked tickets?"
      ],
      "metadata": {
        "id": "9GJ81bAylbHo"
      }
    },
    {
      "cell_type": "code",
      "source": [
        "#Importing necessary python modules\n",
        "import numpy as np\n",
        "import pandas as pd\n",
        "import matplotlib.pyplot as plt\n",
        "import seaborn as sns"
      ],
      "metadata": {
        "id": "Qrcl3xfRldCA"
      },
      "execution_count": 12,
      "outputs": []
    },
    {
      "cell_type": "code",
      "source": [
        "from numpy.random import poisson\n",
        "from numpy.random import randint\n",
        "\n",
        "C = 300\n",
        "a = randint(0, C+1)\n",
        "b = randint(0, C-a+1)\n",
        "c = C-a-b\n",
        "\n",
        "a_miss= poisson(.01, size=a).sum()\n",
        "b_miss = poisson(.03, size=b).sum()\n",
        "c_miss = poisson(.10, size=c).sum()\n",
        "\n",
        "[a_miss, b_miss,c_miss]\n"
      ],
      "metadata": {
        "colab": {
          "base_uri": "https://localhost:8080/"
        },
        "id": "70zpTXHXpK8q",
        "outputId": "a7e3a4a0-f648-4316-be1f-be9e7d9c3346"
      },
      "execution_count": 13,
      "outputs": [
        {
          "output_type": "execute_result",
          "data": {
            "text/plain": [
              "[np.int64(0), np.int64(2), np.int64(19)]"
            ]
          },
          "metadata": {},
          "execution_count": 13
        }
      ]
    },
    {
      "cell_type": "code",
      "source": [
        "#1 ticket overbooked\n",
        "liste = []\n",
        "for i in range(10**4):\n",
        "  ovr = 1\n",
        "\n",
        "  C = 300\n",
        "  a = randint(0, C+1)\n",
        "  b = randint(0, C-a+1)\n",
        "  c = C-a-b\n",
        "\n",
        "  a_miss= poisson(.01, size=a).sum()\n",
        "  b_miss = poisson(.03, size=b).sum()\n",
        "  c_miss = poisson(.10, size=c).sum()\n",
        "\n",
        "  if np.array([a_miss, b_miss, c_miss]).sum () >=ovr:\n",
        "    liste.append(500)\n",
        "  else:\n",
        "    liste.append(-10000*(ovr- np.array([a_miss, b_miss, c_miss]).sum()))\n",
        "np.array(liste).mean()"
      ],
      "metadata": {
        "colab": {
          "base_uri": "https://localhost:8080/"
        },
        "id": "dax-iIRmp3oA",
        "outputId": "53a03be6-24a8-4097-afb2-1330167b1b90"
      },
      "execution_count": 14,
      "outputs": [
        {
          "output_type": "execute_result",
          "data": {
            "text/plain": [
              "np.float64(464.3)"
            ]
          },
          "metadata": {},
          "execution_count": 14
        }
      ]
    },
    {
      "cell_type": "code",
      "source": [
        "# 2 ticket overbooked\n",
        "liste = []\n",
        "for i in range(10**4):\n",
        "  ovr = 2\n",
        "\n",
        "  C = 300 + ovr\n",
        "  a = randint(0, C+1)\n",
        "  b = randint(0, C-a+1)\n",
        "  c = C-a-b\n",
        "\n",
        "  a_miss= poisson(.01, size=a).sum()\n",
        "  b_miss = poisson(.03, size=b).sum()\n",
        "  c_miss = poisson(.10, size=c).sum()\n",
        "\n",
        "  if np.array([a_miss, b_miss, c_miss]).sum () >=ovr:\n",
        "    liste.append(500)\n",
        "  else:\n",
        "    liste.append(-10000*(ovr- np.array([a_miss, b_miss, c_miss]).sum()))\n",
        "np.array(liste).mean()"
      ],
      "metadata": {
        "colab": {
          "base_uri": "https://localhost:8080/"
        },
        "id": "VwAb8YUBrC3T",
        "outputId": "763b21a4-186f-4553-d32e-4a0d3b94b689"
      },
      "execution_count": 15,
      "outputs": [
        {
          "output_type": "execute_result",
          "data": {
            "text/plain": [
              "np.float64(267.6)"
            ]
          },
          "metadata": {},
          "execution_count": 15
        }
      ]
    },
    {
      "cell_type": "code",
      "source": [
        "# 3 ticket overbooked\n",
        "liste = []\n",
        "for i in range(10**4):\n",
        "  ovr = 3\n",
        "\n",
        "  C = 300 + ovr\n",
        "  a = randint(0, C+1)\n",
        "  b = randint(0, C-a+1)\n",
        "  c = C-a-b\n",
        "\n",
        "  a_miss= poisson(.01, size=a).sum()\n",
        "  b_miss = poisson(.03, size=b).sum()\n",
        "  c_miss = poisson(.10, size=c).sum()\n",
        "\n",
        "  if np.array([a_miss, b_miss, c_miss]).sum () >=ovr:\n",
        "    liste.append(500)\n",
        "  else:\n",
        "    liste.append(-10000*(ovr- np.array([a_miss, b_miss, c_miss]).sum()))\n",
        "np.array(liste).mean()"
      ],
      "metadata": {
        "colab": {
          "base_uri": "https://localhost:8080/"
        },
        "id": "zGyR6ByBszER",
        "outputId": "2b5aafd4-2564-428a-e9bb-1cfeb4478ae0"
      },
      "execution_count": 16,
      "outputs": [
        {
          "output_type": "execute_result",
          "data": {
            "text/plain": [
              "np.float64(-220.9)"
            ]
          },
          "metadata": {},
          "execution_count": 16
        }
      ]
    },
    {
      "cell_type": "code",
      "source": [
        "# 4 ticket overbooked\n",
        "liste = []\n",
        "for i in range(10**4):\n",
        "  ovr = 4\n",
        "\n",
        "  C = 300 + ovr\n",
        "  a = randint(0, C+1)\n",
        "  b = randint(0, C-a+1)\n",
        "  c = C-a-b\n",
        "\n",
        "  a_miss= poisson(.01, size=a).sum()\n",
        "  b_miss = poisson(.03, size=b).sum()\n",
        "  c_miss = poisson(.10, size=c).sum()\n",
        "\n",
        "  if np.array([a_miss, b_miss, c_miss]).sum () >=ovr:\n",
        "    liste.append(500)\n",
        "  else:\n",
        "    liste.append(-10000*(ovr- np.array([a_miss, b_miss, c_miss]).sum()))\n",
        "np.array(liste).mean()"
      ],
      "metadata": {
        "colab": {
          "base_uri": "https://localhost:8080/"
        },
        "id": "8h2JmLHvtbyQ",
        "outputId": "dc567b96-e7b6-49ec-9315-f7fea296f84e"
      },
      "execution_count": 17,
      "outputs": [
        {
          "output_type": "execute_result",
          "data": {
            "text/plain": [
              "np.float64(-1100.6)"
            ]
          },
          "metadata": {},
          "execution_count": 17
        }
      ]
    },
    {
      "cell_type": "code",
      "source": [
        "# 5 ticket overbooked\n",
        "liste = []\n",
        "for i in range(10**4):\n",
        "  ovr = 5\n",
        "\n",
        "  C = 300 + ovr\n",
        "  a = randint(0, C+1)\n",
        "  b = randint(0, C-a+1)\n",
        "  c = C-a-b\n",
        "\n",
        "  a_miss= poisson(.01, size=a).sum()\n",
        "  b_miss = poisson(.03, size=b).sum()\n",
        "  c_miss = poisson(.10, size=c).sum()\n",
        "\n",
        "  if np.array([a_miss, b_miss, c_miss]).sum () >=ovr:\n",
        "    liste.append(500)\n",
        "  else:\n",
        "    liste.append(-10000*(ovr- np.array([a_miss, b_miss, c_miss]).sum()))\n",
        "np.array(liste).mean()"
      ],
      "metadata": {
        "colab": {
          "base_uri": "https://localhost:8080/"
        },
        "id": "4gMjsHP8t_2W",
        "outputId": "3c87f6d5-7b07-45b0-ff36-f54ea38a3a1b"
      },
      "execution_count": 18,
      "outputs": [
        {
          "output_type": "execute_result",
          "data": {
            "text/plain": [
              "np.float64(-2636.95)"
            ]
          },
          "metadata": {},
          "execution_count": 18
        }
      ]
    },
    {
      "cell_type": "markdown",
      "source": [
        "Q1b: If there were no fine, what would be the opportunity cost of not overbooking?"
      ],
      "metadata": {
        "id": "9V8hs8wouhBL"
      }
    },
    {
      "cell_type": "code",
      "source": [
        "liste = []\n",
        "for i in range(10**4):\n",
        "  ovr = 0\n",
        "\n",
        "  C = 300 + ovr\n",
        "  a = randint(0, C+1)\n",
        "  b = randint(0, C-a+1)\n",
        "  c = C-a-b\n",
        "\n",
        "  a_miss= poisson(.01, size=a).sum()\n",
        "  b_miss = poisson(.03, size=b).sum()\n",
        "  c_miss = poisson(.10, size=c).sum()\n",
        "\n",
        "  liste.append(\n",
        "      500*np.array([a_miss, b_miss, c_miss]).sum()\n",
        "      )\n",
        "np.array(liste).mean()"
      ],
      "metadata": {
        "colab": {
          "base_uri": "https://localhost:8080/"
        },
        "id": "2Xadn53luKD5",
        "outputId": "1f926b87-e8a5-43f0-e6fd-531edc3d1edc"
      },
      "execution_count": 21,
      "outputs": [
        {
          "output_type": "execute_result",
          "data": {
            "text/plain": [
              "np.float64(5652.25)"
            ]
          },
          "metadata": {},
          "execution_count": 21
        }
      ]
    },
    {
      "cell_type": "code",
      "source": [],
      "metadata": {
        "id": "Jp6MViXbwQyb"
      },
      "execution_count": null,
      "outputs": []
    }
  ]
}