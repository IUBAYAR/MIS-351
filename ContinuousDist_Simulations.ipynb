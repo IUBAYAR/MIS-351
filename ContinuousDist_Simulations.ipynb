{
  "cells": [
    {
      "cell_type": "markdown",
      "metadata": {
        "id": "view-in-github",
        "colab_type": "text"
      },
      "source": [
        "<a href=\"https://colab.research.google.com/github/IUBAYAR/MIS-351/blob/main/ContinuousDist_Simulations.ipynb\" target=\"_parent\"><img src=\"https://colab.research.google.com/assets/colab-badge.svg\" alt=\"Open In Colab\"/></a>"
      ]
    },
    {
      "cell_type": "code",
      "execution_count": null,
      "id": "f82f1fee-47a6-4eb0-bf41-9f286ebca2ee",
      "metadata": {
        "id": "f82f1fee-47a6-4eb0-bf41-9f286ebca2ee",
        "outputId": "907850c2-5c21-4b5f-e312-0b6329d974e2"
      },
      "outputs": [
        {
          "name": "stdout",
          "output_type": "stream",
          "text": [
            "Collecting numpy\n",
            "  Downloading numpy-2.0.2-cp39-cp39-win_amd64.whl.metadata (59 kB)\n",
            "Downloading numpy-2.0.2-cp39-cp39-win_amd64.whl (15.9 MB)\n",
            "   ---------------------------------------- 0.0/15.9 MB ? eta -:--:--\n",
            "   -- ------------------------------------- 1.0/15.9 MB 7.2 MB/s eta 0:00:03\n",
            "   -------------------------- ------------- 10.5/15.9 MB 31.2 MB/s eta 0:00:01\n",
            "   ---------------------------------------- 15.9/15.9 MB 33.4 MB/s eta 0:00:00\n",
            "Installing collected packages: numpy\n",
            "Successfully installed numpy-2.0.2\n",
            "Collecting pandas\n",
            "  Downloading pandas-2.2.3-cp39-cp39-win_amd64.whl.metadata (19 kB)\n",
            "Requirement already satisfied: numpy>=1.22.4 in c:\\users\\lab1user\\miniconda3\\envs\\py309\\lib\\site-packages (from pandas) (2.0.2)\n",
            "Requirement already satisfied: python-dateutil>=2.8.2 in c:\\users\\lab1user\\miniconda3\\envs\\py309\\lib\\site-packages (from pandas) (2.9.0.post0)\n",
            "Collecting pytz>=2020.1 (from pandas)\n",
            "  Downloading pytz-2025.2-py2.py3-none-any.whl.metadata (22 kB)\n",
            "Collecting tzdata>=2022.7 (from pandas)\n",
            "  Downloading tzdata-2025.2-py2.py3-none-any.whl.metadata (1.4 kB)\n",
            "Requirement already satisfied: six>=1.5 in c:\\users\\lab1user\\miniconda3\\envs\\py309\\lib\\site-packages (from python-dateutil>=2.8.2->pandas) (1.17.0)\n",
            "Downloading pandas-2.2.3-cp39-cp39-win_amd64.whl (11.6 MB)\n",
            "   ---------------------------------------- 0.0/11.6 MB ? eta -:--:--\n",
            "   - -------------------------------------- 0.5/11.6 MB 8.2 MB/s eta 0:00:02\n",
            "   ---------------------------- ----------- 8.4/11.6 MB 30.6 MB/s eta 0:00:01\n",
            "   ---------------------------------------- 11.6/11.6 MB 31.5 MB/s eta 0:00:00\n",
            "Downloading pytz-2025.2-py2.py3-none-any.whl (509 kB)\n",
            "Downloading tzdata-2025.2-py2.py3-none-any.whl (347 kB)\n",
            "Installing collected packages: pytz, tzdata, pandas\n",
            "Successfully installed pandas-2.2.3 pytz-2025.2 tzdata-2025.2\n",
            "Collecting matplotlib\n",
            "  Downloading matplotlib-3.9.4-cp39-cp39-win_amd64.whl.metadata (11 kB)\n",
            "Collecting contourpy>=1.0.1 (from matplotlib)\n",
            "  Downloading contourpy-1.3.0-cp39-cp39-win_amd64.whl.metadata (5.4 kB)\n",
            "Collecting cycler>=0.10 (from matplotlib)\n",
            "  Downloading cycler-0.12.1-py3-none-any.whl.metadata (3.8 kB)\n",
            "Collecting fonttools>=4.22.0 (from matplotlib)\n",
            "  Downloading fonttools-4.57.0-cp39-cp39-win_amd64.whl.metadata (104 kB)\n",
            "Collecting kiwisolver>=1.3.1 (from matplotlib)\n",
            "  Downloading kiwisolver-1.4.7-cp39-cp39-win_amd64.whl.metadata (6.4 kB)\n",
            "Requirement already satisfied: numpy>=1.23 in c:\\users\\lab1user\\miniconda3\\envs\\py309\\lib\\site-packages (from matplotlib) (2.0.2)\n",
            "Requirement already satisfied: packaging>=20.0 in c:\\users\\lab1user\\miniconda3\\envs\\py309\\lib\\site-packages (from matplotlib) (24.2)\n",
            "Collecting pillow>=8 (from matplotlib)\n",
            "  Downloading pillow-11.2.1-cp39-cp39-win_amd64.whl.metadata (9.1 kB)\n",
            "Collecting pyparsing>=2.3.1 (from matplotlib)\n",
            "  Downloading pyparsing-3.2.3-py3-none-any.whl.metadata (5.0 kB)\n",
            "Requirement already satisfied: python-dateutil>=2.7 in c:\\users\\lab1user\\miniconda3\\envs\\py309\\lib\\site-packages (from matplotlib) (2.9.0.post0)\n",
            "Collecting importlib-resources>=3.2.0 (from matplotlib)\n",
            "  Downloading importlib_resources-6.5.2-py3-none-any.whl.metadata (3.9 kB)\n",
            "Requirement already satisfied: zipp>=3.1.0 in c:\\users\\lab1user\\miniconda3\\envs\\py309\\lib\\site-packages (from importlib-resources>=3.2.0->matplotlib) (3.21.0)\n",
            "Requirement already satisfied: six>=1.5 in c:\\users\\lab1user\\miniconda3\\envs\\py309\\lib\\site-packages (from python-dateutil>=2.7->matplotlib) (1.17.0)\n",
            "Downloading matplotlib-3.9.4-cp39-cp39-win_amd64.whl (7.8 MB)\n",
            "   ---------------------------------------- 0.0/7.8 MB ? eta -:--:--\n",
            "   -------- ------------------------------- 1.6/7.8 MB 9.3 MB/s eta 0:00:01\n",
            "   ---------------------------------------- 7.8/7.8 MB 24.2 MB/s eta 0:00:00\n",
            "Downloading contourpy-1.3.0-cp39-cp39-win_amd64.whl (211 kB)\n",
            "Downloading cycler-0.12.1-py3-none-any.whl (8.3 kB)\n",
            "Downloading fonttools-4.57.0-cp39-cp39-win_amd64.whl (2.2 MB)\n",
            "   ---------------------------------------- 0.0/2.2 MB ? eta -:--:--\n",
            "   ---------------------------------------- 2.2/2.2 MB 121.4 MB/s eta 0:00:00\n",
            "Downloading importlib_resources-6.5.2-py3-none-any.whl (37 kB)\n",
            "Downloading kiwisolver-1.4.7-cp39-cp39-win_amd64.whl (55 kB)\n",
            "Downloading pillow-11.2.1-cp39-cp39-win_amd64.whl (2.7 MB)\n",
            "   ---------------------------------------- 0.0/2.7 MB ? eta -:--:--\n",
            "   ---------------------------------------- 2.7/2.7 MB 51.4 MB/s eta 0:00:00\n",
            "Downloading pyparsing-3.2.3-py3-none-any.whl (111 kB)\n",
            "Installing collected packages: pyparsing, pillow, kiwisolver, importlib-resources, fonttools, cycler, contourpy, matplotlib\n",
            "Successfully installed contourpy-1.3.0 cycler-0.12.1 fonttools-4.57.0 importlib-resources-6.5.2 kiwisolver-1.4.7 matplotlib-3.9.4 pillow-11.2.1 pyparsing-3.2.3\n",
            "Collecting seaborn\n",
            "  Downloading seaborn-0.13.2-py3-none-any.whl.metadata (5.4 kB)\n",
            "Requirement already satisfied: numpy!=1.24.0,>=1.20 in c:\\users\\lab1user\\miniconda3\\envs\\py309\\lib\\site-packages (from seaborn) (2.0.2)\n",
            "Requirement already satisfied: pandas>=1.2 in c:\\users\\lab1user\\miniconda3\\envs\\py309\\lib\\site-packages (from seaborn) (2.2.3)\n",
            "Requirement already satisfied: matplotlib!=3.6.1,>=3.4 in c:\\users\\lab1user\\miniconda3\\envs\\py309\\lib\\site-packages (from seaborn) (3.9.4)\n",
            "Requirement already satisfied: contourpy>=1.0.1 in c:\\users\\lab1user\\miniconda3\\envs\\py309\\lib\\site-packages (from matplotlib!=3.6.1,>=3.4->seaborn) (1.3.0)\n",
            "Requirement already satisfied: cycler>=0.10 in c:\\users\\lab1user\\miniconda3\\envs\\py309\\lib\\site-packages (from matplotlib!=3.6.1,>=3.4->seaborn) (0.12.1)\n",
            "Requirement already satisfied: fonttools>=4.22.0 in c:\\users\\lab1user\\miniconda3\\envs\\py309\\lib\\site-packages (from matplotlib!=3.6.1,>=3.4->seaborn) (4.57.0)\n",
            "Requirement already satisfied: kiwisolver>=1.3.1 in c:\\users\\lab1user\\miniconda3\\envs\\py309\\lib\\site-packages (from matplotlib!=3.6.1,>=3.4->seaborn) (1.4.7)\n",
            "Requirement already satisfied: packaging>=20.0 in c:\\users\\lab1user\\miniconda3\\envs\\py309\\lib\\site-packages (from matplotlib!=3.6.1,>=3.4->seaborn) (24.2)\n",
            "Requirement already satisfied: pillow>=8 in c:\\users\\lab1user\\miniconda3\\envs\\py309\\lib\\site-packages (from matplotlib!=3.6.1,>=3.4->seaborn) (11.2.1)\n",
            "Requirement already satisfied: pyparsing>=2.3.1 in c:\\users\\lab1user\\miniconda3\\envs\\py309\\lib\\site-packages (from matplotlib!=3.6.1,>=3.4->seaborn) (3.2.3)\n",
            "Requirement already satisfied: python-dateutil>=2.7 in c:\\users\\lab1user\\miniconda3\\envs\\py309\\lib\\site-packages (from matplotlib!=3.6.1,>=3.4->seaborn) (2.9.0.post0)\n",
            "Requirement already satisfied: importlib-resources>=3.2.0 in c:\\users\\lab1user\\miniconda3\\envs\\py309\\lib\\site-packages (from matplotlib!=3.6.1,>=3.4->seaborn) (6.5.2)\n",
            "Requirement already satisfied: pytz>=2020.1 in c:\\users\\lab1user\\miniconda3\\envs\\py309\\lib\\site-packages (from pandas>=1.2->seaborn) (2025.2)\n",
            "Requirement already satisfied: tzdata>=2022.7 in c:\\users\\lab1user\\miniconda3\\envs\\py309\\lib\\site-packages (from pandas>=1.2->seaborn) (2025.2)\n",
            "Requirement already satisfied: zipp>=3.1.0 in c:\\users\\lab1user\\miniconda3\\envs\\py309\\lib\\site-packages (from importlib-resources>=3.2.0->matplotlib!=3.6.1,>=3.4->seaborn) (3.21.0)\n",
            "Requirement already satisfied: six>=1.5 in c:\\users\\lab1user\\miniconda3\\envs\\py309\\lib\\site-packages (from python-dateutil>=2.7->matplotlib!=3.6.1,>=3.4->seaborn) (1.17.0)\n",
            "Downloading seaborn-0.13.2-py3-none-any.whl (294 kB)\n",
            "Installing collected packages: seaborn\n",
            "Successfully installed seaborn-0.13.2\n",
            "Collecting scikit-learn\n",
            "  Downloading scikit_learn-1.6.1-cp39-cp39-win_amd64.whl.metadata (15 kB)\n",
            "Requirement already satisfied: numpy>=1.19.5 in c:\\users\\lab1user\\miniconda3\\envs\\py309\\lib\\site-packages (from scikit-learn) (2.0.2)\n",
            "Collecting scipy>=1.6.0 (from scikit-learn)\n",
            "  Downloading scipy-1.13.1-cp39-cp39-win_amd64.whl.metadata (60 kB)\n",
            "Collecting joblib>=1.2.0 (from scikit-learn)\n",
            "  Downloading joblib-1.4.2-py3-none-any.whl.metadata (5.4 kB)\n",
            "Collecting threadpoolctl>=3.1.0 (from scikit-learn)\n",
            "  Downloading threadpoolctl-3.6.0-py3-none-any.whl.metadata (13 kB)\n",
            "Downloading scikit_learn-1.6.1-cp39-cp39-win_amd64.whl (11.2 MB)\n",
            "   ---------------------------------------- 0.0/11.2 MB ? eta -:--:--\n",
            "   -- ------------------------------------- 0.8/11.2 MB 5.6 MB/s eta 0:00:02\n",
            "   ------------- -------------------------- 3.7/11.2 MB 10.4 MB/s eta 0:00:01\n",
            "   ------------------- -------------------- 5.5/11.2 MB 10.2 MB/s eta 0:00:01\n",
            "   --------------------------- ------------ 7.6/11.2 MB 9.8 MB/s eta 0:00:01\n",
            "   ---------------------------------- ----- 9.7/11.2 MB 9.7 MB/s eta 0:00:01\n",
            "   ---------------------------------------- 11.2/11.2 MB 9.3 MB/s eta 0:00:00\n",
            "Downloading joblib-1.4.2-py3-none-any.whl (301 kB)\n",
            "Downloading scipy-1.13.1-cp39-cp39-win_amd64.whl (46.2 MB)\n",
            "   ---------------------------------------- 0.0/46.2 MB ? eta -:--:--\n",
            "   - -------------------------------------- 2.1/46.2 MB 10.7 MB/s eta 0:00:05\n",
            "   --- ------------------------------------ 4.5/46.2 MB 10.3 MB/s eta 0:00:05\n",
            "   ----- ---------------------------------- 6.6/46.2 MB 10.3 MB/s eta 0:00:04\n",
            "   ------- -------------------------------- 8.7/46.2 MB 10.3 MB/s eta 0:00:04\n",
            "   --------- ------------------------------ 10.7/46.2 MB 10.5 MB/s eta 0:00:04\n",
            "   ----------- ---------------------------- 13.4/46.2 MB 10.5 MB/s eta 0:00:04\n",
            "   ------------- -------------------------- 15.5/46.2 MB 10.5 MB/s eta 0:00:03\n",
            "   --------------- ------------------------ 17.8/46.2 MB 10.5 MB/s eta 0:00:03\n",
            "   ----------------- ---------------------- 20.2/46.2 MB 10.6 MB/s eta 0:00:03\n",
            "   ------------------- -------------------- 22.5/46.2 MB 10.6 MB/s eta 0:00:03\n",
            "   --------------------- ------------------ 24.4/46.2 MB 10.7 MB/s eta 0:00:03\n",
            "   ---------------------- ----------------- 26.5/46.2 MB 10.4 MB/s eta 0:00:02\n",
            "   ------------------------ --------------- 28.3/46.2 MB 10.2 MB/s eta 0:00:02\n",
            "   ------------------------- -------------- 29.9/46.2 MB 10.0 MB/s eta 0:00:02\n",
            "   --------------------------- ------------ 31.7/46.2 MB 9.9 MB/s eta 0:00:02\n",
            "   ----------------------------- ---------- 33.6/46.2 MB 9.9 MB/s eta 0:00:02\n",
            "   ------------------------------ --------- 35.4/46.2 MB 9.8 MB/s eta 0:00:02\n",
            "   -------------------------------- ------- 37.2/46.2 MB 9.7 MB/s eta 0:00:01\n",
            "   --------------------------------- ------ 39.1/46.2 MB 9.7 MB/s eta 0:00:01\n",
            "   ----------------------------------- ---- 40.9/46.2 MB 9.6 MB/s eta 0:00:01\n",
            "   ------------------------------------ --- 42.7/46.2 MB 9.6 MB/s eta 0:00:01\n",
            "   -------------------------------------- - 44.6/46.2 MB 9.5 MB/s eta 0:00:01\n",
            "   ---------------------------------------  46.1/46.2 MB 9.5 MB/s eta 0:00:01\n",
            "   ---------------------------------------- 46.2/46.2 MB 9.4 MB/s eta 0:00:00\n",
            "Downloading threadpoolctl-3.6.0-py3-none-any.whl (18 kB)\n",
            "Installing collected packages: threadpoolctl, scipy, joblib, scikit-learn\n",
            "Successfully installed joblib-1.4.2 scikit-learn-1.6.1 scipy-1.13.1 threadpoolctl-3.6.0\n"
          ]
        }
      ],
      "source": [
        "#  Setting up some Python modules:\n",
        "!pip install numpy\n",
        "!pip install pandas\n",
        "!pip install matplotlib\n",
        "!pip install seaborn\n",
        "!pip install scikit-learn"
      ]
    },
    {
      "cell_type": "markdown",
      "id": "839d1e92-0cb3-4a05-8070-75c9830376f4",
      "metadata": {
        "id": "839d1e92-0cb3-4a05-8070-75c9830376f4"
      },
      "source": [
        "#  Simulating Continuous Distribution Problems\n",
        "\n",
        "If I want to take notes as well I can just type them down here..."
      ]
    },
    {
      "cell_type": "markdown",
      "id": "b226937b-273b-49bb-af2b-2dadd4f726b7",
      "metadata": {
        "id": "b226937b-273b-49bb-af2b-2dadd4f726b7"
      },
      "source": [
        "##  An Poisson Distributed Problem:\n",
        "\n",
        "TOGG T10F is a brand new car. You would expect to see 10 cars within 60 minutes while watching the Şehit Gönenç Street.\n",
        "\n",
        "You are wathing the street, what is the probability that you would see not less then 18 cars?"
      ]
    },
    {
      "cell_type": "code",
      "execution_count": null,
      "id": "9f1e5f00-7d4a-4276-97e9-b44bfec8b8b9",
      "metadata": {
        "id": "9f1e5f00-7d4a-4276-97e9-b44bfec8b8b9"
      },
      "outputs": [],
      "source": [
        "#  import necessary Python modules:\n",
        "import numpy as np\n",
        "import pandas as pd\n",
        "import seaborn as sns"
      ]
    },
    {
      "cell_type": "code",
      "execution_count": null,
      "id": "1e452d79-38c8-4e7c-8cd1-1bec4ebd1bfe",
      "metadata": {
        "id": "1e452d79-38c8-4e7c-8cd1-1bec4ebd1bfe",
        "outputId": "4114598d-6877-45c3-91c1-61bc6236bc73"
      },
      "outputs": [
        {
          "data": {
            "text/plain": [
              "array([11,  9,  9, ..., 16,  9,  6], dtype=int32)"
            ]
          },
          "execution_count": 10,
          "metadata": {},
          "output_type": "execute_result"
        }
      ],
      "source": [
        "#  Create my random variable with a large number of instances\n",
        "X = np.random.poisson(\n",
        "                    lam =  10,\n",
        "                    size = 10**6\n",
        "                    )\n",
        "\n",
        "X"
      ]
    },
    {
      "cell_type": "code",
      "execution_count": null,
      "id": "849c537c-6d8f-4548-a61e-9fdbc0d6d3fe",
      "metadata": {
        "id": "849c537c-6d8f-4548-a61e-9fdbc0d6d3fe",
        "outputId": "c7518081-6765-4e87-a205-39e84aa225d0"
      },
      "outputs": [
        {
          "data": {
            "text/plain": [
              "<Axes: ylabel='Count'>"
            ]
          },
          "execution_count": 11,
          "metadata": {},
          "output_type": "execute_result"
        },
        {
          "data": {
            "image/png": "[encoded data removed]",
            "text/plain": [
              "<Figure size 640x480 with 1 Axes>"
            ]
          },
          "metadata": {},
          "output_type": "display_data"
        }
      ],
      "source": [
        "#  Plotting X\n",
        "sns.histplot(\n",
        "            X\n",
        "            )"
      ]
    },
    {
      "cell_type": "code",
      "execution_count": null,
      "id": "65adf1bf-d33a-4efc-89dc-b62d949e9e71",
      "metadata": {
        "id": "65adf1bf-d33a-4efc-89dc-b62d949e9e71"
      },
      "outputs": [],
      "source": [
        "#  Transforming X to a pandas Series\n",
        "X = pd.Series( X )"
      ]
    },
    {
      "cell_type": "code",
      "execution_count": null,
      "id": "5eb1a890-7621-4d78-bb9d-353734efe6cc",
      "metadata": {
        "id": "5eb1a890-7621-4d78-bb9d-353734efe6cc",
        "outputId": "b9f5c6a9-719a-48dd-ff43-8624ee1165dd"
      },
      "outputs": [
        {
          "data": {
            "text/plain": [
              "64        18\n",
              "88        18\n",
              "208       18\n",
              "338       19\n",
              "364       19\n",
              "          ..\n",
              "999608    19\n",
              "999748    19\n",
              "999771    18\n",
              "999792    20\n",
              "999805    18\n",
              "Length: 14443, dtype: int32"
            ]
          },
          "execution_count": 13,
          "metadata": {},
          "output_type": "execute_result"
        }
      ],
      "source": [
        "#  Filtering instances with values not less than 18\n",
        "X[ X >= 18 ]"
      ]
    },
    {
      "cell_type": "code",
      "execution_count": null,
      "id": "a7f325f5-7f01-4f91-941c-c9b3131dd86f",
      "metadata": {
        "id": "a7f325f5-7f01-4f91-941c-c9b3131dd86f",
        "outputId": "d0a87b32-b04e-405c-cf5b-9ccc80c4f382"
      },
      "outputs": [
        {
          "data": {
            "text/plain": [
              "0.014443"
            ]
          },
          "execution_count": 14,
          "metadata": {},
          "output_type": "execute_result"
        }
      ],
      "source": [
        "#  Computing the probability\n",
        "len( X[ X >= 18 ] ) / len( X )"
      ]
    },
    {
      "cell_type": "markdown",
      "id": "ea71c836-5e4c-4253-8491-a3effa94cb6d",
      "metadata": {
        "id": "ea71c836-5e4c-4253-8491-a3effa94cb6d"
      },
      "source": [
        "##  Exponential Distribution Problem\n",
        "\n",
        "Continuing with the previous problems context...\n",
        "\n",
        "It is expected that between seeing two new cars, you need to watch the Şehit Gönenç Street for 400 seconds.\n",
        "\n",
        "What is the probability that you would wait not more than 2.5 minutes to see 2 cars or more?"
      ]
    },
    {
      "cell_type": "code",
      "execution_count": null,
      "id": "1872fc1f-fa6a-405e-975e-3384038710eb",
      "metadata": {
        "id": "1872fc1f-fa6a-405e-975e-3384038710eb",
        "outputId": "146f77e0-c530-4b29-9494-6eb524894fe6"
      },
      "outputs": [
        {
          "data": {
            "text/plain": [
              "6.666666666666667"
            ]
          },
          "execution_count": 15,
          "metadata": {},
          "output_type": "execute_result"
        }
      ],
      "source": [
        "#  400 seconds to minutes\n",
        "lam = 400 / 60\n",
        "\n",
        "lam"
      ]
    },
    {
      "cell_type": "code",
      "execution_count": null,
      "id": "d9c212ab-b697-4233-9911-409d37709c62",
      "metadata": {
        "id": "d9c212ab-b697-4233-9911-409d37709c62",
        "outputId": "2b8b1cd9-84fe-4830-bffb-3d5097496143"
      },
      "outputs": [
        {
          "data": {
            "text/plain": [
              "array([15.67203372,  2.23221511,  1.37366107, ..., 20.17498262,\n",
              "        4.09134593,  9.29062302])"
            ]
          },
          "execution_count": 16,
          "metadata": {},
          "output_type": "execute_result"
        }
      ],
      "source": [
        "#  Creating the random variable with a large number of instances\n",
        "X = np.random.exponential(\n",
        "                        lam,\n",
        "                        size = 10**5\n",
        "                        )\n",
        "X"
      ]
    },
    {
      "cell_type": "code",
      "execution_count": null,
      "id": "926311c3-ec28-4106-8276-7ccd904620e0",
      "metadata": {
        "id": "926311c3-ec28-4106-8276-7ccd904620e0",
        "outputId": "ca9ede64-de9e-4774-9e86-e17ee033be4d"
      },
      "outputs": [
        {
          "data": {
            "text/plain": [
              "<Axes: ylabel='Count'>"
            ]
          },
          "execution_count": 17,
          "metadata": {},
          "output_type": "execute_result"
        },
        {
          "data": {
            "image/png": "[encoded data removed]",
            "text/plain": [
              "<Figure size 640x480 with 1 Axes>"
            ]
          },
          "metadata": {},
          "output_type": "display_data"
        }
      ],
      "source": [
        "#  Plotting X\n",
        "sns.histplot(\n",
        "            X\n",
        "            )"
      ]
    },
    {
      "cell_type": "code",
      "execution_count": null,
      "id": "6472b213-f561-4a14-b122-33e37f511d2b",
      "metadata": {
        "id": "6472b213-f561-4a14-b122-33e37f511d2b",
        "outputId": "c3e3a29e-46d3-4cdb-fa8e-a0db4f22ee95"
      },
      "outputs": [
        {
          "data": {
            "text/plain": [
              "0        15.672034\n",
              "1         2.232215\n",
              "2         1.373661\n",
              "3         8.605246\n",
              "4         0.490935\n",
              "           ...    \n",
              "99995     2.877389\n",
              "99996     0.967688\n",
              "99997    20.174983\n",
              "99998     4.091346\n",
              "99999     9.290623\n",
              "Length: 100000, dtype: float64"
            ]
          },
          "execution_count": 18,
          "metadata": {},
          "output_type": "execute_result"
        }
      ],
      "source": [
        "#  X to pd.Series\n",
        "X = pd.Series( X )\n",
        "X"
      ]
    },
    {
      "cell_type": "code",
      "execution_count": null,
      "id": "de2d8379-248f-4544-bae7-0449c204c565",
      "metadata": {
        "id": "de2d8379-248f-4544-bae7-0449c204c565",
        "outputId": "4358c298-63f5-4489-9c15-c88ad3f05ac5"
      },
      "outputs": [
        {
          "data": {
            "text/plain": [
              "1        2.232215\n",
              "2        1.373661\n",
              "4        0.490935\n",
              "8        1.025151\n",
              "9        1.432796\n",
              "           ...   \n",
              "99983    0.701571\n",
              "99987    2.431112\n",
              "99989    0.713810\n",
              "99994    0.794000\n",
              "99996    0.967688\n",
              "Length: 31444, dtype: float64"
            ]
          },
          "execution_count": 19,
          "metadata": {},
          "output_type": "execute_result"
        }
      ],
      "source": [
        "#  Filter values not more than 2.5\n",
        "X[ X <= 2.5 ]"
      ]
    },
    {
      "cell_type": "code",
      "execution_count": null,
      "id": "3092259a-e77e-4290-b75d-71a8a41d7f9f",
      "metadata": {
        "id": "3092259a-e77e-4290-b75d-71a8a41d7f9f",
        "outputId": "dff0761c-3ab9-4377-d77b-e21649b55c4e"
      },
      "outputs": [
        {
          "data": {
            "text/plain": [
              "0.31444"
            ]
          },
          "execution_count": 20,
          "metadata": {},
          "output_type": "execute_result"
        }
      ],
      "source": [
        "#  Computing the probability\n",
        "len( X[ X <= 2.5 ] ) / len( X )"
      ]
    },
    {
      "cell_type": "code",
      "execution_count": null,
      "id": "9608b0ea-a2b9-4677-a655-d19ebe59f03a",
      "metadata": {
        "id": "9608b0ea-a2b9-4677-a655-d19ebe59f03a"
      },
      "outputs": [],
      "source": []
    }
  ],
  "metadata": {
    "kernelspec": {
      "display_name": "Python 3 (ipykernel)",
      "language": "python",
      "name": "python3"
    },
    "language_info": {
      "codemirror_mode": {
        "name": "ipython",
        "version": 3
      },
      "file_extension": ".py",
      "mimetype": "text/x-python",
      "name": "python",
      "nbconvert_exporter": "python",
      "pygments_lexer": "ipython3",
      "version": "3.9.21"
    },
    "colab": {
      "provenance": [],
      "include_colab_link": true
    }
  },
  "nbformat": 4,
  "nbformat_minor": 5
}