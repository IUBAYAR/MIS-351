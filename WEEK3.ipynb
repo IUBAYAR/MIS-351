{
  "nbformat": 4,
  "nbformat_minor": 0,
  "metadata": {
    "colab": {
      "provenance": [],
      "authorship_tag": "ABX9TyOspCqHfu5ilIWq8CaV74JL",
      "include_colab_link": true
    },
    "kernelspec": {
      "name": "python3",
      "display_name": "Python 3"
    },
    "language_info": {
      "name": "python"
    }
  },
  "cells": [
    {
      "cell_type": "markdown",
      "metadata": {
        "id": "view-in-github",
        "colab_type": "text"
      },
      "source": [
        "<a href=\"https://colab.research.google.com/github/IUBAYAR/MIS-351/blob/main/WEEK3.ipynb\" target=\"_parent\"><img src=\"https://colab.research.google.com/assets/colab-badge.svg\" alt=\"Open In Colab\"/></a>"
      ]
    },
    {
      "cell_type": "code",
      "execution_count": null,
      "metadata": {
        "colab": {
          "base_uri": "https://localhost:8080/"
        },
        "id": "4Y2KZYEDmds0",
        "outputId": "99fc9af2-10f2-4ca9-ed29-2e2518486995"
      },
      "outputs": [
        {
          "output_type": "execute_result",
          "data": {
            "text/plain": [
              "{'custom key': 'some value'}"
            ]
          },
          "metadata": {},
          "execution_count": 1
        }
      ],
      "source": [
        "#DICTIONARIES: you do not need ordered numeric indices anymore.\n",
        "dictionary={}\n",
        "#in dictionaries we can use custom keys to call values instead of numeric indices\n",
        "#let's add an item to a list\n",
        "dictionary[\"custom key\"]= \"some value\"\n",
        "dictionary"
      ]
    },
    {
      "cell_type": "code",
      "source": [
        "\"\"\"you may also use multiple keys for an item\"\"\"\n",
        "dictionary[(\"MIS351\", 3)] = \"dictionaries, conditional statements and for loops\"\n",
        "dictionary"
      ],
      "metadata": {
        "colab": {
          "base_uri": "https://localhost:8080/"
        },
        "id": "8BeTrDWLnShG",
        "outputId": "f6d286d2-ce08-4795-d425-f6fb714b6d8d"
      },
      "execution_count": null,
      "outputs": [
        {
          "output_type": "execute_result",
          "data": {
            "text/plain": [
              "{'custom key': 'some value',\n",
              " ('MIS351', 3): 'dictionaries, conditional statements and for loops'}"
            ]
          },
          "metadata": {},
          "execution_count": 2
        }
      ]
    },
    {
      "cell_type": "code",
      "source": [
        "#conditional statements: if/ elif/ else\n",
        "nr=352\n",
        "#let's test nr for divisibility\n",
        "#division by zero is not defined\n",
        "print(0,\"not defined\")\n",
        "#everything is divisible by 1\n",
        "print(1, \"of course\")\n",
        "if nr % 2 == 0:\n",
        "  print(2, \"divisible!\")\n",
        "elif nr % 3 == 0:\n",
        "  print(3, \"divisible!\")\n",
        "elif nr % 4 == 0:\n",
        "  print(4, \"divisible!\")\n",
        "elif nr % 5 == 0:\n",
        "  print(5, \"divisible!\")\n",
        "elif nr % 6 == 0:\n",
        "  print(6, \"divisible!\")\n",
        "elif nr % 7 == 0:\n",
        "  print(7, \"divisible!\")\n",
        "elif nr % 8 == 0:\n",
        "  print(8, \"divisible!\")\n",
        "else:\n",
        "  print(9, \"divisible!\")"
      ],
      "metadata": {
        "colab": {
          "base_uri": "https://localhost:8080/"
        },
        "id": "zicdyXdon5Ty",
        "outputId": "ee0a2d20-f9db-440b-a3ec-ce1d1aea26c3"
      },
      "execution_count": null,
      "outputs": [
        {
          "output_type": "stream",
          "name": "stdout",
          "text": [
            "0 not defined\n",
            "1 of course\n",
            "2 divisible!\n"
          ]
        }
      ]
    },
    {
      "cell_type": "code",
      "source": [
        "#in a chain of conditional statements the rest of the code will be omitted\n",
        "#after a condition is satisfied at some level"
      ],
      "metadata": {
        "id": "g7AVjxGHpBal"
      },
      "execution_count": null,
      "outputs": []
    },
    {
      "cell_type": "code",
      "source": [
        "#while loops runs until the condition is not satisfied anymore\n",
        "while True:\n",
        "  print(\"still working\")"
      ],
      "metadata": {
        "id": "FT0iZrViqQzT"
      },
      "execution_count": null,
      "outputs": []
    },
    {
      "cell_type": "code",
      "source": [
        "#it is customary to use counters with while loops\n",
        "counter = 0\n",
        "while counter<= 9:\n",
        "  print(counter)\n",
        "  counter += 1\n",
        "  #counter = counter +1"
      ],
      "metadata": {
        "colab": {
          "base_uri": "https://localhost:8080/"
        },
        "id": "azmdr3ACqh7d",
        "outputId": "ee0d4bdf-9752-4e5d-8e9a-6379f9a6490c"
      },
      "execution_count": null,
      "outputs": [
        {
          "output_type": "stream",
          "name": "stdout",
          "text": [
            "0\n",
            "1\n",
            "2\n",
            "3\n",
            "4\n",
            "5\n",
            "6\n",
            "7\n",
            "8\n",
            "9\n"
          ]
        }
      ]
    },
    {
      "cell_type": "code",
      "source": [
        "#for loops\n",
        "#let's now test divisibility using for loops\n",
        "nr = 403\n",
        "for i in range(1,9+1):\n",
        "  if nr % i  == 0:\n",
        "    print(nr, \"is divisible by\", i)\n",
        "  else:\n",
        "    print(nr,\"is not divisible by\", i)"
      ],
      "metadata": {
        "colab": {
          "base_uri": "https://localhost:8080/"
        },
        "id": "t9oN969-rX19",
        "outputId": "14ac212a-f3e6-4013-d5cc-c2b95585def9"
      },
      "execution_count": null,
      "outputs": [
        {
          "output_type": "stream",
          "name": "stdout",
          "text": [
            "403 is divisible by 1\n",
            "403 is not divisible by 2\n",
            "403 is not divisible by 3\n",
            "403 is not divisible by 4\n",
            "403 is not divisible by 5\n",
            "403 is not divisible by 6\n",
            "403 is not divisible by 7\n",
            "403 is not divisible by 8\n",
            "403 is not divisible by 9\n"
          ]
        }
      ]
    },
    {
      "cell_type": "code",
      "source": [
        "counter = 1\n",
        "while counter <= 9:\n",
        "  if nr % counter == 0:\n",
        "    print(nr, \"is divisible by\", counter)\n",
        "  else:\n",
        "    print(nr,\"is not divisible by\", counter)\n",
        "  counter += 1\n"
      ],
      "metadata": {
        "colab": {
          "base_uri": "https://localhost:8080/"
        },
        "id": "kydEqdE0t7wz",
        "outputId": "ba05e727-4bb2-4d8f-cb87-790e273fde49"
      },
      "execution_count": null,
      "outputs": [
        {
          "output_type": "stream",
          "name": "stdout",
          "text": [
            "403 is divisible by 1\n",
            "403 is not divisible by 2\n",
            "403 is not divisible by 3\n",
            "403 is not divisible by 4\n",
            "403 is not divisible by 5\n",
            "403 is not divisible by 6\n",
            "403 is not divisible by 7\n",
            "403 is not divisible by 8\n",
            "403 is not divisible by 9\n"
          ]
        }
      ]
    },
    {
      "cell_type": "code",
      "source": [
        "#finding prime numbers less than 25\n",
        "#no number is divisible by something greater than itself\n",
        "#smallest prime number is 2\n",
        "prime = [2]\n",
        "for i in range(3, 25 + 1):\n",
        "  divisors = []\n",
        "  for j in range(2, i):\n",
        "    if i % j == 0:\n",
        "      divisors.append(j)\n",
        "  if len(divisors) == 0:\n",
        "    prime.append(i)\n",
        "prime\n"
      ],
      "metadata": {
        "colab": {
          "base_uri": "https://localhost:8080/"
        },
        "id": "-Qq4qjZ9vL-R",
        "outputId": "8dd68e6a-f757-469b-88ac-30cd1a805114"
      },
      "execution_count": null,
      "outputs": [
        {
          "output_type": "execute_result",
          "data": {
            "text/plain": [
              "[2, 3, 5, 7, 11, 13, 17, 19, 23]"
            ]
          },
          "metadata": {},
          "execution_count": 14
        }
      ]
    },
    {
      "cell_type": "code",
      "source": [
        "#installing python modules\n",
        "!pip install numpy"
      ],
      "metadata": {
        "colab": {
          "base_uri": "https://localhost:8080/"
        },
        "id": "JMh3R2Bkwgwn",
        "outputId": "9efe235b-68d2-4d46-dfa1-bbd341eadf14"
      },
      "execution_count": null,
      "outputs": [
        {
          "output_type": "stream",
          "name": "stdout",
          "text": [
            "Requirement already satisfied: numpy in /usr/local/lib/python3.10/dist-packages (1.25.2)\n"
          ]
        }
      ]
    },
    {
      "cell_type": "code",
      "source": [
        "#importing python modules (fully or partially)\n",
        "import numpy.random.choice as choice\n",
        "#within the numpy module and the random submodule we imported the choice function\n",
        "import numpy as np\n",
        "#we imported the whole numpy module\n"
      ],
      "metadata": {
        "id": "wP3R9qPn5KO4",
        "outputId": "f33be927-6b1e-4803-ae9c-404355a83d0c",
        "colab": {
          "base_uri": "https://localhost:8080/",
          "height": 384
        }
      },
      "execution_count": null,
      "outputs": [
        {
          "output_type": "error",
          "ename": "ModuleNotFoundError",
          "evalue": "No module named 'numpy.random.choice'",
          "traceback": [
            "\u001b[0;31m---------------------------------------------------------------------------\u001b[0m",
            "\u001b[0;31mModuleNotFoundError\u001b[0m                       Traceback (most recent call last)",
            "\u001b[0;32m<ipython-input-1-f969bdc0d441>\u001b[0m in \u001b[0;36m<cell line: 2>\u001b[0;34m()\u001b[0m\n\u001b[1;32m      1\u001b[0m \u001b[0;31m#importing python modules (fully or partially)\u001b[0m\u001b[0;34m\u001b[0m\u001b[0;34m\u001b[0m\u001b[0m\n\u001b[0;32m----> 2\u001b[0;31m \u001b[0;32mimport\u001b[0m \u001b[0mnumpy\u001b[0m\u001b[0;34m.\u001b[0m\u001b[0mrandom\u001b[0m\u001b[0;34m.\u001b[0m\u001b[0mchoice\u001b[0m \u001b[0;32mas\u001b[0m \u001b[0mchoice\u001b[0m\u001b[0;34m\u001b[0m\u001b[0;34m\u001b[0m\u001b[0m\n\u001b[0m\u001b[1;32m      3\u001b[0m \u001b[0;31m#within the numpy module and the random submodule we imported the choice function\u001b[0m\u001b[0;34m\u001b[0m\u001b[0;34m\u001b[0m\u001b[0m\n\u001b[1;32m      4\u001b[0m \u001b[0;32mimport\u001b[0m \u001b[0mnumpy\u001b[0m \u001b[0;32mas\u001b[0m \u001b[0mnp\u001b[0m\u001b[0;34m\u001b[0m\u001b[0;34m\u001b[0m\u001b[0m\n\u001b[1;32m      5\u001b[0m \u001b[0;31m#we imported the whole numpy module\u001b[0m\u001b[0;34m\u001b[0m\u001b[0;34m\u001b[0m\u001b[0m\n",
            "\u001b[0;31mModuleNotFoundError\u001b[0m: No module named 'numpy.random.choice'",
            "",
            "\u001b[0;31m---------------------------------------------------------------------------\u001b[0;32m\nNOTE: If your import is failing due to a missing package, you can\nmanually install dependencies using either !pip or !apt.\n\nTo view examples of installing some common dependencies, click the\n\"Open Examples\" button below.\n\u001b[0;31m---------------------------------------------------------------------------\u001b[0m\n"
          ],
          "errorDetails": {
            "actions": [
              {
                "action": "open_url",
                "actionText": "Open Examples",
                "url": "/notebooks/snippets/importing_libraries.ipynb"
              }
            ]
          }
        }
      ]
    }
  ]
}