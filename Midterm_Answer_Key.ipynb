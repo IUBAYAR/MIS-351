{
  "nbformat": 4,
  "nbformat_minor": 0,
  "metadata": {
    "colab": {
      "provenance": [],
      "authorship_tag": "ABX9TyPUGWzDY2sPlGsgrdgzX/L1",
      "include_colab_link": true
    },
    "kernelspec": {
      "name": "python3",
      "display_name": "Python 3"
    },
    "language_info": {
      "name": "python"
    }
  },
  "cells": [
    {
      "cell_type": "markdown",
      "metadata": {
        "id": "view-in-github",
        "colab_type": "text"
      },
      "source": [
        "<a href=\"https://colab.research.google.com/github/IUBAYAR/MIS-351/blob/main/Midterm_Answer_Key.ipynb\" target=\"_parent\"><img src=\"https://colab.research.google.com/assets/colab-badge.svg\" alt=\"Open In Colab\"/></a>"
      ]
    },
    {
      "cell_type": "markdown",
      "source": [
        "Solution of Q1:"
      ],
      "metadata": {
        "id": "rD-ET6-PAqEh"
      }
    },
    {
      "cell_type": "markdown",
      "source": [
        "* import necessary python modules,\n",
        "* define the random variable with correct pmf,\n",
        "* simulate instances through $10^4$ loops and collect observations,\n",
        "* filter out female 100m runners within the subset of 100m runners"
      ],
      "metadata": {
        "id": "c0GeL0K8mpU4"
      }
    },
    {
      "cell_type": "code",
      "source": [
        "import numpy as np\n",
        "import pandas as pd"
      ],
      "metadata": {
        "id": "LAmc0GWyAsIB"
      },
      "execution_count": null,
      "outputs": []
    },
    {
      "cell_type": "code",
      "source": [
        "outcomes = []\n",
        "\n",
        "for i in range(10**4):\n",
        "  outcomes.append(\n",
        "      np.random.choice(\n",
        "                        ['Male_100m','Male_Long_jump', 'Male_Javelin',\n",
        "                        'Female_100m','Female_Long_jump', 'Female_Javelin'],\n",
        "                        p = np.array( [56,30,24,32,29,29] ) / 200\n",
        "                      )\n",
        "                  )"
      ],
      "metadata": {
        "id": "Mz-_bMUnlOyH"
      },
      "execution_count": null,
      "outputs": []
    },
    {
      "cell_type": "code",
      "source": [
        "len( pd.Series( outcomes )[\n",
        "    ([(i[-1] == 'm') and (i[0] == 'F') for i in outcomes])\n",
        "] ) / len( pd.Series( outcomes )[\n",
        "    ([(i[-1] == 'm') for i in outcomes])\n",
        "] )"
      ],
      "metadata": {
        "colab": {
          "base_uri": "https://localhost:8080/"
        },
        "id": "o3D4ZelhlQ27",
        "outputId": "e5476ea6-8cb4-4781-d13b-9c1acc2440d2"
      },
      "execution_count": null,
      "outputs": [
        {
          "output_type": "execute_result",
          "data": {
            "text/plain": [
              "0.35550611790878756"
            ]
          },
          "metadata": {},
          "execution_count": 17
        }
      ]
    },
    {
      "cell_type": "markdown",
      "source": [
        "Solution of Q2:\n",
        "\n",
        "a)"
      ],
      "metadata": {
        "id": "VCpe_tTlB1aw"
      }
    },
    {
      "cell_type": "markdown",
      "source": [
        "* import the necessary python modules,\n",
        "* define the random variable with the correct pmf,\n",
        "* simulate through $10^4$ loops and collect observations,\n",
        "* analyze the proportion of double threes in the collections"
      ],
      "metadata": {
        "id": "Psb6lErynxas"
      }
    },
    {
      "cell_type": "code",
      "source": [
        "liste = []\n",
        "\n",
        "for i in range(10**4):\n",
        "\n",
        "  rolls = np.random.choice(\n",
        "                          [1,2,3],\n",
        "                          p = [2/6, 3/6, 1/6],\n",
        "                          size = 2\n",
        "                          )\n",
        "\n",
        "  if rolls[0] == 3 and rolls[1] == 3:\n",
        "    liste.append(1)\n",
        "  else:\n",
        "    liste.append(0)\n",
        "\n",
        "np.array( liste ).mean()"
      ],
      "metadata": {
        "colab": {
          "base_uri": "https://localhost:8080/"
        },
        "id": "rYzjQmwBB3S3",
        "outputId": "f42894bc-1bda-42e5-a78d-5cc9c3c193dd"
      },
      "execution_count": null,
      "outputs": [
        {
          "output_type": "execute_result",
          "data": {
            "text/plain": [
              "0.0306"
            ]
          },
          "metadata": {},
          "execution_count": 2
        }
      ]
    },
    {
      "cell_type": "markdown",
      "source": [
        "Solution of Q2:\n",
        "\n",
        "b)"
      ],
      "metadata": {
        "id": "0SUG_YoaB7mp"
      }
    },
    {
      "cell_type": "markdown",
      "source": [
        "* import the necessary python modulues,\n",
        "* define the random variable with the correct pmf,\n",
        "* define a while loop that lasts until a complete collection is obtained,\n",
        "* simulate through  $10^4$  loops and collect observations,\n",
        "* average the collection"
      ],
      "metadata": {
        "id": "v-vUXXH7rRpD"
      }
    },
    {
      "cell_type": "code",
      "source": [
        "liste = []\n",
        "\n",
        "for i in range(10**4):\n",
        "\n",
        "  collection = []\n",
        "\n",
        "  while len( set( collection ) ) < 3:\n",
        "    collection.append(\n",
        "                      np.random.choice(\n",
        "                      [1,2,3],\n",
        "                      p = [2/6, 3/6, 1/6]\n",
        "                      )\n",
        "    )\n",
        "\n",
        "  liste.append( len( collection ) )\n",
        "\n",
        "np.array( liste ).mean()"
      ],
      "metadata": {
        "colab": {
          "base_uri": "https://localhost:8080/"
        },
        "id": "wEjjhcEPB_CL",
        "outputId": "41fc5f34-29f5-4c69-bb5b-5c0c6eb991fd"
      },
      "execution_count": null,
      "outputs": [
        {
          "output_type": "execute_result",
          "data": {
            "text/plain": [
              "7.32"
            ]
          },
          "metadata": {},
          "execution_count": 3
        }
      ]
    },
    {
      "cell_type": "markdown",
      "source": [
        "Solution of Q2:\n",
        "\n",
        "c)"
      ],
      "metadata": {
        "id": "qxVMlhPTCJCw"
      }
    },
    {
      "cell_type": "markdown",
      "source": [
        "* import the necessary python modulues,\n",
        "* define the random variable with the correct pmf,\n",
        "* transform the random variable into a string,\n",
        "* conditionally analyze wheter the string contains \"123\" or not,\n",
        "* simulate through  $10^4$  loops and collect observations,\n",
        "* average the collection"
      ],
      "metadata": {
        "id": "FylqBx2wryuf"
      }
    },
    {
      "cell_type": "code",
      "source": [
        "liste = []\n",
        "\n",
        "for i in range(10**4):\n",
        "\n",
        "  rolls = np.random.choice(\n",
        "                          [1,2,3],\n",
        "                          p = [2/6, 3/6, 1/6],\n",
        "                          size = 10\n",
        "                          )\n",
        "\n",
        "  rolls_str = ''\n",
        "\n",
        "  for i in rolls:\n",
        "    rolls_str += str( i )\n",
        "\n",
        "  liste.append(\n",
        "              int('123' in rolls_str)\n",
        "              )\n",
        "\n",
        "np.array( liste ).mean()"
      ],
      "metadata": {
        "colab": {
          "base_uri": "https://localhost:8080/"
        },
        "id": "SWIXnrFGCKzr",
        "outputId": "3ac4acd9-07ef-4b69-a4d1-b4a457fdb3c2"
      },
      "execution_count": null,
      "outputs": [
        {
          "output_type": "execute_result",
          "data": {
            "text/plain": [
              "0.2033"
            ]
          },
          "metadata": {},
          "execution_count": 4
        }
      ]
    },
    {
      "cell_type": "code",
      "source": [],
      "metadata": {
        "id": "Uxe6AccrCOPi"
      },
      "execution_count": null,
      "outputs": []
    }
  ]
}